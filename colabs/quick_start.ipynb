{
  "cells": [
    {
      "cell_type": "markdown",
      "metadata": {
        "id": "_"
      },
      "source": [
        "# Quick start"
      ]
    },
    {
      "cell_type": "markdown",
      "metadata": {
        "id": "on5cvb0VoK_D"
      },
      "source": [
        "Welcome to the quick start guide for AlphaGenome! The goal of this tutorial\n",
        "notebook is to quickly get you started with using the model and making\n",
        "predictions."
      ]
    },
    {
      "cell_type": "markdown",
      "metadata": {
        "id": "XNBquB49Nk6W"
      },
      "source": [
        "```{tip}\n",
        "Open this tutorial in Google colab for interactive viewing.\n",
        "```"
      ]
    },
    {
      "cell_type": "code",
      "execution_count": null,
      "metadata": {
        "cellView": "form",
        "id": "W28j15ApoK_D",
        "language": "python"
      },
      "outputs": [],
      "source": [
        "# @title Install AlphaGenome\n",
        "\n",
        "# @markdown Run this cell to install AlphaGenome.\n",
        "from IPython.display import clear_output\n",
        "! pip install alphagenome\n",
        "clear_output()"
      ]
    },
    {
      "cell_type": "markdown",
      "metadata": {
        "id": "-lcTVQLvqB6F"
      },
      "source": [
        "## Imports"
      ]
    },
    {
      "cell_type": "code",
      "execution_count": null,
      "metadata": {
        "id": "KuLPy_awXaP_",
        "language": "python"
      },
      "outputs": [],
      "source": [
        "from alphagenome import colab_utils\n",
        "from alphagenome.data import gene_annotation\n",
        "from alphagenome.data import genome\n",
        "from alphagenome.data import transcript as transcript_utils\n",
        "from alphagenome.interpretation import ism\n",
        "from alphagenome.models import dna_client\n",
        "from alphagenome.models import variant_scorers\n",
        "from alphagenome.visualization import plot_components\n",
        "import matplotlib.pyplot as plt\n",
        "import pandas as pd"
      ]
    },
    {
      "cell_type": "markdown",
      "metadata": {
        "id": "jEGP__L4oK_E"
      },
      "source": [
        "## Predict outputs for a DNA sequence"
      ]
    },
    {
      "cell_type": "markdown",
      "metadata": {
        "id": "Bzov6O0goK_F"
      },
      "source": [
        "AlphaGenome is a model that makes predictions from DNA sequences. Let's load it\n",
        "up:"
      ]
    },
    {
      "cell_type": "markdown",
      "metadata": {
        "id": "ThpPPG1A8L-D"
      },
      "source": [
        "```{tip}\n",
        "If using Google Colab, store your key in \"Secrets\" for persistent access across sessions (see [installation](https://www.alphagenomedocs.com/installation.html#google-colab)). Otherwise, `dna_client.create` can take the API key directly.\n",
        "```"
      ]
    },
    {
      "cell_type": "code",
      "execution_count": 8,
      "metadata": {
        "id": "toBpbthy93gr",
        "language": "python",
        "outputId": "8215fde4-5dfe-4ed4-a3d7-042bd0fb3a4b",
        "colab": {
          "base_uri": "https://localhost:8080/",
          "height": 418
        }
      },
      "outputs": [
        {
          "output_type": "error",
          "ename": "ValueError",
          "evalue": "Cannot find or access API key in Colab secrets with secret='ALPHA_GENOME_API_KEY'. Make sure you have added the API key to Colab secrets and enabled access. See https://www.alphagenomedocs.com/installation.html#add-api-key-to-secrets for more details.",
          "traceback": [
            "\u001b[0;31m---------------------------------------------------------------------------\u001b[0m",
            "\u001b[0;31mSecretNotFoundError\u001b[0m                       Traceback (most recent call last)",
            "\u001b[0;32m/usr/local/lib/python3.12/dist-packages/alphagenome/colab_utils.py\u001b[0m in \u001b[0;36mget_api_key\u001b[0;34m(secret)\u001b[0m\n\u001b[1;32m     43\u001b[0m     \u001b[0;32mtry\u001b[0m\u001b[0;34m:\u001b[0m\u001b[0;34m\u001b[0m\u001b[0;34m\u001b[0m\u001b[0m\n\u001b[0;32m---> 44\u001b[0;31m       \u001b[0mapi_key\u001b[0m \u001b[0;34m=\u001b[0m \u001b[0muserdata\u001b[0m\u001b[0;34m.\u001b[0m\u001b[0mget\u001b[0m\u001b[0;34m(\u001b[0m\u001b[0msecret\u001b[0m\u001b[0;34m)\u001b[0m\u001b[0;34m\u001b[0m\u001b[0;34m\u001b[0m\u001b[0m\n\u001b[0m\u001b[1;32m     45\u001b[0m       \u001b[0;32mreturn\u001b[0m \u001b[0mapi_key\u001b[0m\u001b[0;34m\u001b[0m\u001b[0;34m\u001b[0m\u001b[0m\n",
            "\u001b[0;32m/usr/local/lib/python3.12/dist-packages/google/colab/userdata.py\u001b[0m in \u001b[0;36mget\u001b[0;34m(key)\u001b[0m\n\u001b[1;32m     67\u001b[0m   \u001b[0;32mif\u001b[0m \u001b[0;32mnot\u001b[0m \u001b[0mresp\u001b[0m\u001b[0;34m.\u001b[0m\u001b[0mget\u001b[0m\u001b[0;34m(\u001b[0m\u001b[0;34m'exists'\u001b[0m\u001b[0;34m,\u001b[0m \u001b[0;32mFalse\u001b[0m\u001b[0;34m)\u001b[0m\u001b[0;34m:\u001b[0m\u001b[0;34m\u001b[0m\u001b[0;34m\u001b[0m\u001b[0m\n\u001b[0;32m---> 68\u001b[0;31m     \u001b[0;32mraise\u001b[0m \u001b[0mSecretNotFoundError\u001b[0m\u001b[0;34m(\u001b[0m\u001b[0mkey\u001b[0m\u001b[0;34m)\u001b[0m\u001b[0;34m\u001b[0m\u001b[0;34m\u001b[0m\u001b[0m\n\u001b[0m\u001b[1;32m     69\u001b[0m   \u001b[0;32mif\u001b[0m \u001b[0;32mnot\u001b[0m \u001b[0mresp\u001b[0m\u001b[0;34m.\u001b[0m\u001b[0mget\u001b[0m\u001b[0;34m(\u001b[0m\u001b[0;34m'access'\u001b[0m\u001b[0;34m,\u001b[0m \u001b[0;32mFalse\u001b[0m\u001b[0;34m)\u001b[0m\u001b[0;34m:\u001b[0m\u001b[0;34m\u001b[0m\u001b[0;34m\u001b[0m\u001b[0m\n",
            "\u001b[0;31mSecretNotFoundError\u001b[0m: Secret ALPHA_GENOME_API_KEY does not exist.",
            "\nThe above exception was the direct cause of the following exception:\n",
            "\u001b[0;31mValueError\u001b[0m                                Traceback (most recent call last)",
            "\u001b[0;32m/tmp/ipython-input-879551208.py\u001b[0m in \u001b[0;36m<cell line: 0>\u001b[0;34m()\u001b[0m\n\u001b[0;32m----> 1\u001b[0;31m \u001b[0mdna_model\u001b[0m \u001b[0;34m=\u001b[0m \u001b[0mdna_client\u001b[0m\u001b[0;34m.\u001b[0m\u001b[0mcreate\u001b[0m\u001b[0;34m(\u001b[0m\u001b[0mcolab_utils\u001b[0m\u001b[0;34m.\u001b[0m\u001b[0mget_api_key\u001b[0m\u001b[0;34m(\u001b[0m\u001b[0;34m)\u001b[0m\u001b[0;34m)\u001b[0m\u001b[0;34m\u001b[0m\u001b[0;34m\u001b[0m\u001b[0m\n\u001b[0m",
            "\u001b[0;32m/usr/local/lib/python3.12/dist-packages/alphagenome/colab_utils.py\u001b[0m in \u001b[0;36mget_api_key\u001b[0;34m(secret)\u001b[0m\n\u001b[1;32m     49\u001b[0m         \u001b[0muserdata\u001b[0m\u001b[0;34m.\u001b[0m\u001b[0mTimeoutException\u001b[0m\u001b[0;34m,\u001b[0m\u001b[0;34m\u001b[0m\u001b[0;34m\u001b[0m\u001b[0m\n\u001b[1;32m     50\u001b[0m     ) as e:\n\u001b[0;32m---> 51\u001b[0;31m       raise ValueError(\n\u001b[0m\u001b[1;32m     52\u001b[0m           \u001b[0;34mf'Cannot find or access API key in Colab secrets with {secret=}. Make'\u001b[0m\u001b[0;34m\u001b[0m\u001b[0;34m\u001b[0m\u001b[0m\n\u001b[1;32m     53\u001b[0m           \u001b[0;34m' sure you have added the API key to Colab secrets and enabled'\u001b[0m\u001b[0;34m\u001b[0m\u001b[0;34m\u001b[0m\u001b[0m\n",
            "\u001b[0;31mValueError\u001b[0m: Cannot find or access API key in Colab secrets with secret='ALPHA_GENOME_API_KEY'. Make sure you have added the API key to Colab secrets and enabled access. See https://www.alphagenomedocs.com/installation.html#add-api-key-to-secrets for more details."
          ]
        }
      ],
      "source": [
        "dna_model = dna_client.create(colab_utils.get_api_key())"
      ]
    },
    {
      "cell_type": "markdown",
      "metadata": {
        "id": "H_358E_nkYVt"
      },
      "source": [
        "The model can make predictions for the following\n",
        "[output types](https://www.alphagenomedocs.com/exploring_model_metadata.html):"
      ]
    },
    {
      "cell_type": "code",
      "execution_count": null,
      "metadata": {
        "id": "U2Q-amDjkYVt",
        "outputId": "882915e9-d146-4ad5-e494-510d0a7925fd"
      },
      "outputs": [
        {
          "output_type": "execute_result",
          "data": {
            "text/plain": [
              "['ATAC',\n",
              " 'CAGE',\n",
              " 'DNASE',\n",
              " 'RNA_SEQ',\n",
              " 'CHIP_HISTONE',\n",
              " 'CHIP_TF',\n",
              " 'SPLICE_SITES',\n",
              " 'SPLICE_SITE_USAGE',\n",
              " 'SPLICE_JUNCTIONS',\n",
              " 'CONTACT_MAPS',\n",
              " 'PROCAP']"
            ]
          },
          "metadata": {},
          "execution_count": 45
        }
      ],
      "source": [
        "[output.name for output in dna_client.OutputType]"
      ]
    },
    {
      "cell_type": "markdown",
      "metadata": {
        "id": "dpFi65J3kYVt"
      },
      "source": [
        "AlphaGenome predicts multiple 'tracks' per output type, covering a wide variety\n",
        "of tissues and cell-types. However, predictions can be made efficiently for\n",
        "subsets of interest.\n",
        "\n",
        "Here is how to make DNase-seq predictions (as specified by `OutputType`) in a\n",
        "subset of tracks corresponding to lung tissue (as specified by `ontology_terms`)\n",
        "for a DNA sequence of length 1Mb:\n",
        "\n",
        "*Note: We use ontology terms from standardized biological sources like UBERON\n",
        "(for anatomy) and the Cell Ontology (CL) to provide consistent and widely\n",
        "recognized classifications for tissue and cell types.*"
      ]
    },
    {
      "cell_type": "code",
      "execution_count": null,
      "metadata": {
        "id": "pRv5MT9hkYVt"
      },
      "outputs": [],
      "source": [
        "output = dna_model.predict_sequence(\n",
        "    sequence='GATTACA'.center(\n",
        "        dna_client.SEQUENCE_LENGTH_1MB, 'N'\n",
        "    ),  # Pad to valid sequence length.\n",
        "    requested_outputs=[dna_client.OutputType.DNASE],\n",
        "    ontology_terms=['UBERON:0002048'],  # Lung.\n",
        ")"
      ]
    },
    {
      "cell_type": "markdown",
      "metadata": {
        "id": "bHz9nXh9kYVt"
      },
      "source": [
        "The `output` object contains predictions for all the different requested output\n",
        "types (in this case, only output type `DNASE`). Predictions for genomic tracks\n",
        "are stored inside a `TrackData` object:"
      ]
    },
    {
      "cell_type": "code",
      "execution_count": null,
      "metadata": {
        "id": "KmQMwe1MkYVt",
        "outputId": "7f3aa9b8-27a9-4ca7-904e-1cbf17ca5644"
      },
      "outputs": [
        {
          "output_type": "execute_result",
          "data": {
            "text/plain": [
              "alphagenome.data.track_data.TrackData"
            ]
          },
          "metadata": {},
          "execution_count": 47
        }
      ],
      "source": [
        "dnase = output.dnase\n",
        "type(dnase)"
      ]
    },
    {
      "cell_type": "markdown",
      "metadata": {
        "id": "HflwfcSxkYVt"
      },
      "source": [
        "`TrackData` objects have the following components:"
      ]
    },
    {
      "cell_type": "markdown",
      "metadata": {
        "id": "pudb_vcWkYVt"
      },
      "source": [
        "<a href=\"https://services.google.com/fh/files/misc/trackdata.png\"><img src=\"https://services.google.com/fh/files/misc/trackdata.png\" alt=\"trackdata\" border=\"0\" height=500></a>"
      ]
    },
    {
      "cell_type": "markdown",
      "metadata": {
        "id": "0R24IDvokYVt"
      },
      "source": [
        "The predictions of shape `(sequence_length, num_tracks)` are stored in\n",
        "`.values`:"
      ]
    },
    {
      "cell_type": "code",
      "execution_count": null,
      "metadata": {
        "id": "7OoINJM_kYVt",
        "outputId": "ecb914d2-850d-44f4-e7a5-2ba71f0c1aee"
      },
      "outputs": [
        {
          "output_type": "stream",
          "name": "stdout",
          "text": [
            "(1048576, 1)\n"
          ]
        },
        {
          "output_type": "execute_result",
          "data": {
            "text/plain": [
              "array([[0.00187683],\n",
              "       [0.00177765],\n",
              "       [0.00177765],\n",
              "       ...,\n",
              "       [0.0019989 ],\n",
              "       [0.00292969],\n",
              "       [0.0039978 ]], shape=(1048576, 1), dtype=float32)"
            ]
          },
          "metadata": {},
          "execution_count": 48
        }
      ],
      "source": [
        "print(dnase.values.shape)\n",
        "\n",
        "dnase.values"
      ]
    },
    {
      "cell_type": "markdown",
      "metadata": {
        "id": "6kAs7jA_kYVt"
      },
      "source": [
        "And the corresponding metadata describing each of the tracks is stored in\n",
        "`.metadata`:"
      ]
    },
    {
      "cell_type": "code",
      "execution_count": null,
      "metadata": {
        "colab": {
          "height": 115
        },
        "id": "6SPQ6zhukYVt",
        "outputId": "2e2f92d3-0b82-4c05-8eca-6766ba2d1429"
      },
      "outputs": [
        {
          "output_type": "execute_result",
          "data": {
            "application/vnd.google.colaboratory.intrinsic+json": {
              "summary": "{\n  \"name\": \"dnase\",\n  \"rows\": 1,\n  \"fields\": [\n    {\n      \"column\": \"name\",\n      \"properties\": {\n        \"dtype\": \"string\",\n        \"num_unique_values\": 1,\n        \"samples\": [\n          \"UBERON:0002048 DNase-seq\"\n        ],\n        \"semantic_type\": \"\",\n        \"description\": \"\"\n      }\n    },\n    {\n      \"column\": \"strand\",\n      \"properties\": {\n        \"dtype\": \"string\",\n        \"num_unique_values\": 1,\n        \"samples\": [\n          \".\"\n        ],\n        \"semantic_type\": \"\",\n        \"description\": \"\"\n      }\n    },\n    {\n      \"column\": \"Assay title\",\n      \"properties\": {\n        \"dtype\": \"string\",\n        \"num_unique_values\": 1,\n        \"samples\": [\n          \"DNase-seq\"\n        ],\n        \"semantic_type\": \"\",\n        \"description\": \"\"\n      }\n    },\n    {\n      \"column\": \"ontology_curie\",\n      \"properties\": {\n        \"dtype\": \"string\",\n        \"num_unique_values\": 1,\n        \"samples\": [\n          \"UBERON:0002048\"\n        ],\n        \"semantic_type\": \"\",\n        \"description\": \"\"\n      }\n    },\n    {\n      \"column\": \"biosample_name\",\n      \"properties\": {\n        \"dtype\": \"string\",\n        \"num_unique_values\": 1,\n        \"samples\": [\n          \"lung\"\n        ],\n        \"semantic_type\": \"\",\n        \"description\": \"\"\n      }\n    },\n    {\n      \"column\": \"biosample_type\",\n      \"properties\": {\n        \"dtype\": \"string\",\n        \"num_unique_values\": 1,\n        \"samples\": [\n          \"tissue\"\n        ],\n        \"semantic_type\": \"\",\n        \"description\": \"\"\n      }\n    },\n    {\n      \"column\": \"biosample_life_stage\",\n      \"properties\": {\n        \"dtype\": \"string\",\n        \"num_unique_values\": 1,\n        \"samples\": [\n          \"embryonic\"\n        ],\n        \"semantic_type\": \"\",\n        \"description\": \"\"\n      }\n    },\n    {\n      \"column\": \"data_source\",\n      \"properties\": {\n        \"dtype\": \"string\",\n        \"num_unique_values\": 1,\n        \"samples\": [\n          \"encode\"\n        ],\n        \"semantic_type\": \"\",\n        \"description\": \"\"\n      }\n    },\n    {\n      \"column\": \"endedness\",\n      \"properties\": {\n        \"dtype\": \"string\",\n        \"num_unique_values\": 1,\n        \"samples\": [\n          \"paired\"\n        ],\n        \"semantic_type\": \"\",\n        \"description\": \"\"\n      }\n    },\n    {\n      \"column\": \"genetically_modified\",\n      \"properties\": {\n        \"dtype\": \"boolean\",\n        \"num_unique_values\": 1,\n        \"samples\": [\n          false\n        ],\n        \"semantic_type\": \"\",\n        \"description\": \"\"\n      }\n    },\n    {\n      \"column\": \"nonzero_mean\",\n      \"properties\": {\n        \"dtype\": \"number\",\n        \"std\": null,\n        \"min\": 0.4275049567222595,\n        \"max\": 0.4275049567222595,\n        \"num_unique_values\": 1,\n        \"samples\": [\n          0.4275049567222595\n        ],\n        \"semantic_type\": \"\",\n        \"description\": \"\"\n      }\n    }\n  ]\n}",
              "type": "dataframe"
            },
            "text/html": [
              "\n",
              "  <div id=\"df-ad775590-fdc6-4334-9527-a808f02f9dd1\" class=\"colab-df-container\">\n",
              "    <div>\n",
              "<style scoped>\n",
              "    .dataframe tbody tr th:only-of-type {\n",
              "        vertical-align: middle;\n",
              "    }\n",
              "\n",
              "    .dataframe tbody tr th {\n",
              "        vertical-align: top;\n",
              "    }\n",
              "\n",
              "    .dataframe thead th {\n",
              "        text-align: right;\n",
              "    }\n",
              "</style>\n",
              "<table border=\"1\" class=\"dataframe\">\n",
              "  <thead>\n",
              "    <tr style=\"text-align: right;\">\n",
              "      <th></th>\n",
              "      <th>name</th>\n",
              "      <th>strand</th>\n",
              "      <th>Assay title</th>\n",
              "      <th>ontology_curie</th>\n",
              "      <th>biosample_name</th>\n",
              "      <th>biosample_type</th>\n",
              "      <th>biosample_life_stage</th>\n",
              "      <th>data_source</th>\n",
              "      <th>endedness</th>\n",
              "      <th>genetically_modified</th>\n",
              "      <th>nonzero_mean</th>\n",
              "    </tr>\n",
              "  </thead>\n",
              "  <tbody>\n",
              "    <tr>\n",
              "      <th>0</th>\n",
              "      <td>UBERON:0002048 DNase-seq</td>\n",
              "      <td>.</td>\n",
              "      <td>DNase-seq</td>\n",
              "      <td>UBERON:0002048</td>\n",
              "      <td>lung</td>\n",
              "      <td>tissue</td>\n",
              "      <td>embryonic</td>\n",
              "      <td>encode</td>\n",
              "      <td>paired</td>\n",
              "      <td>False</td>\n",
              "      <td>0.427505</td>\n",
              "    </tr>\n",
              "  </tbody>\n",
              "</table>\n",
              "</div>\n",
              "    <div class=\"colab-df-buttons\">\n",
              "\n",
              "  <div class=\"colab-df-container\">\n",
              "    <button class=\"colab-df-convert\" onclick=\"convertToInteractive('df-ad775590-fdc6-4334-9527-a808f02f9dd1')\"\n",
              "            title=\"Convert this dataframe to an interactive table.\"\n",
              "            style=\"display:none;\">\n",
              "\n",
              "  <svg xmlns=\"http://www.w3.org/2000/svg\" height=\"24px\" viewBox=\"0 -960 960 960\">\n",
              "    <path d=\"M120-120v-720h720v720H120Zm60-500h600v-160H180v160Zm220 220h160v-160H400v160Zm0 220h160v-160H400v160ZM180-400h160v-160H180v160Zm440 0h160v-160H620v160ZM180-180h160v-160H180v160Zm440 0h160v-160H620v160Z\"/>\n",
              "  </svg>\n",
              "    </button>\n",
              "\n",
              "  <style>\n",
              "    .colab-df-container {\n",
              "      display:flex;\n",
              "      gap: 12px;\n",
              "    }\n",
              "\n",
              "    .colab-df-convert {\n",
              "      background-color: #E8F0FE;\n",
              "      border: none;\n",
              "      border-radius: 50%;\n",
              "      cursor: pointer;\n",
              "      display: none;\n",
              "      fill: #1967D2;\n",
              "      height: 32px;\n",
              "      padding: 0 0 0 0;\n",
              "      width: 32px;\n",
              "    }\n",
              "\n",
              "    .colab-df-convert:hover {\n",
              "      background-color: #E2EBFA;\n",
              "      box-shadow: 0px 1px 2px rgba(60, 64, 67, 0.3), 0px 1px 3px 1px rgba(60, 64, 67, 0.15);\n",
              "      fill: #174EA6;\n",
              "    }\n",
              "\n",
              "    .colab-df-buttons div {\n",
              "      margin-bottom: 4px;\n",
              "    }\n",
              "\n",
              "    [theme=dark] .colab-df-convert {\n",
              "      background-color: #3B4455;\n",
              "      fill: #D2E3FC;\n",
              "    }\n",
              "\n",
              "    [theme=dark] .colab-df-convert:hover {\n",
              "      background-color: #434B5C;\n",
              "      box-shadow: 0px 1px 3px 1px rgba(0, 0, 0, 0.15);\n",
              "      filter: drop-shadow(0px 1px 2px rgba(0, 0, 0, 0.3));\n",
              "      fill: #FFFFFF;\n",
              "    }\n",
              "  </style>\n",
              "\n",
              "    <script>\n",
              "      const buttonEl =\n",
              "        document.querySelector('#df-ad775590-fdc6-4334-9527-a808f02f9dd1 button.colab-df-convert');\n",
              "      buttonEl.style.display =\n",
              "        google.colab.kernel.accessAllowed ? 'block' : 'none';\n",
              "\n",
              "      async function convertToInteractive(key) {\n",
              "        const element = document.querySelector('#df-ad775590-fdc6-4334-9527-a808f02f9dd1');\n",
              "        const dataTable =\n",
              "          await google.colab.kernel.invokeFunction('convertToInteractive',\n",
              "                                                    [key], {});\n",
              "        if (!dataTable) return;\n",
              "\n",
              "        const docLinkHtml = 'Like what you see? Visit the ' +\n",
              "          '<a target=\"_blank\" href=https://colab.research.google.com/notebooks/data_table.ipynb>data table notebook</a>'\n",
              "          + ' to learn more about interactive tables.';\n",
              "        element.innerHTML = '';\n",
              "        dataTable['output_type'] = 'display_data';\n",
              "        await google.colab.output.renderOutput(dataTable, element);\n",
              "        const docLink = document.createElement('div');\n",
              "        docLink.innerHTML = docLinkHtml;\n",
              "        element.appendChild(docLink);\n",
              "      }\n",
              "    </script>\n",
              "  </div>\n",
              "\n",
              "    </div>\n",
              "  </div>\n"
            ],
            "text/plain": [
              "                       name strand  ... genetically_modified nonzero_mean\n",
              "0  UBERON:0002048 DNase-seq      .  ...                False     0.427505\n",
              "\n",
              "[1 rows x 11 columns]"
            ]
          },
          "metadata": {},
          "execution_count": 49
        }
      ],
      "source": [
        "dnase.metadata"
      ]
    },
    {
      "cell_type": "markdown",
      "metadata": {
        "id": "KLVSBMxVkYVt"
      },
      "source": [
        "In this case, there is only one output track, so the track metadata returns only\n",
        "1 row.\n",
        "\n",
        "The track metadata is especially useful when requesting predictions for multiple\n",
        "tissues or cell-types, and when dealing with stranded assays (which are assays\n",
        "with separate readouts for the two DNA strands, such as CAGE and RNA-seq):"
      ]
    },
    {
      "cell_type": "code",
      "execution_count": null,
      "metadata": {
        "id": "LGYCvBbmkYVt",
        "outputId": "a568a589-e695-4820-ae95-a189e6ace1d2"
      },
      "outputs": [
        {
          "output_type": "stream",
          "name": "stdout",
          "text": [
            "DNASE predictions shape: (1048576, 2)\n",
            "CAGE predictions shape: (1048576, 4)\n"
          ]
        }
      ],
      "source": [
        "output = dna_model.predict_sequence(\n",
        "    sequence='GATTACA'.center(\n",
        "        dna_client.SEQUENCE_LENGTH_1MB, 'N'\n",
        "    ),  # Pad to valid sequence length.\n",
        "    requested_outputs=[\n",
        "        dna_client.OutputType.CAGE,\n",
        "        dna_client.OutputType.DNASE,\n",
        "    ],\n",
        "    ontology_terms=[\n",
        "        'UBERON:0002048',  # Lung.\n",
        "        'UBERON:0000955',  # Brain.\n",
        "    ],\n",
        ")\n",
        "\n",
        "print(f'DNASE predictions shape: {output.dnase.values.shape}')\n",
        "print(f'CAGE predictions shape: {output.cage.values.shape}')"
      ]
    },
    {
      "cell_type": "markdown",
      "metadata": {
        "id": "sA4plQHMkYVt"
      },
      "source": [
        "Notice that in this example, we requested predictions for 2 assays and 2\n",
        "ontology terms simultaneously.\n",
        "\n",
        "The CAGE track metadata describes the strand and tissue of each of the 4\n",
        "predicted tracks (2 per DNA strand):"
      ]
    },
    {
      "cell_type": "code",
      "execution_count": null,
      "metadata": {
        "colab": {
          "height": 175
        },
        "id": "89vnUT2KkYVt",
        "outputId": "26e62e56-6b56-43f3-a495-18f752a6de38"
      },
      "outputs": [
        {
          "output_type": "execute_result",
          "data": {
            "application/vnd.google.colaboratory.intrinsic+json": {
              "summary": "{\n  \"name\": \"output\",\n  \"rows\": 4,\n  \"fields\": [\n    {\n      \"column\": \"name\",\n      \"properties\": {\n        \"dtype\": \"string\",\n        \"num_unique_values\": 2,\n        \"samples\": [\n          \"hCAGE UBERON:0002048\",\n          \"hCAGE UBERON:0000955\"\n        ],\n        \"semantic_type\": \"\",\n        \"description\": \"\"\n      }\n    },\n    {\n      \"column\": \"strand\",\n      \"properties\": {\n        \"dtype\": \"string\",\n        \"num_unique_values\": 2,\n        \"samples\": [\n          \"-\",\n          \"+\"\n        ],\n        \"semantic_type\": \"\",\n        \"description\": \"\"\n      }\n    },\n    {\n      \"column\": \"Assay title\",\n      \"properties\": {\n        \"dtype\": \"category\",\n        \"num_unique_values\": 1,\n        \"samples\": [\n          \"hCAGE\"\n        ],\n        \"semantic_type\": \"\",\n        \"description\": \"\"\n      }\n    },\n    {\n      \"column\": \"ontology_curie\",\n      \"properties\": {\n        \"dtype\": \"string\",\n        \"num_unique_values\": 2,\n        \"samples\": [\n          \"UBERON:0002048\"\n        ],\n        \"semantic_type\": \"\",\n        \"description\": \"\"\n      }\n    },\n    {\n      \"column\": \"biosample_name\",\n      \"properties\": {\n        \"dtype\": \"string\",\n        \"num_unique_values\": 2,\n        \"samples\": [\n          \"lung\"\n        ],\n        \"semantic_type\": \"\",\n        \"description\": \"\"\n      }\n    },\n    {\n      \"column\": \"biosample_type\",\n      \"properties\": {\n        \"dtype\": \"category\",\n        \"num_unique_values\": 1,\n        \"samples\": [\n          \"tissue\"\n        ],\n        \"semantic_type\": \"\",\n        \"description\": \"\"\n      }\n    },\n    {\n      \"column\": \"data_source\",\n      \"properties\": {\n        \"dtype\": \"category\",\n        \"num_unique_values\": 1,\n        \"samples\": [\n          \"fantom\"\n        ],\n        \"semantic_type\": \"\",\n        \"description\": \"\"\n      }\n    },\n    {\n      \"column\": \"nonzero_mean\",\n      \"properties\": {\n        \"dtype\": \"number\",\n        \"std\": 1.283800687168554,\n        \"min\": 28.4322452545166,\n        \"max\": 30.655853271484375,\n        \"num_unique_values\": 2,\n        \"samples\": [\n          30.655853271484375\n        ],\n        \"semantic_type\": \"\",\n        \"description\": \"\"\n      }\n    }\n  ]\n}",
              "type": "dataframe"
            },
            "text/html": [
              "\n",
              "  <div id=\"df-bcfcaa8c-daec-436e-95a0-0f63c483eee1\" class=\"colab-df-container\">\n",
              "    <div>\n",
              "<style scoped>\n",
              "    .dataframe tbody tr th:only-of-type {\n",
              "        vertical-align: middle;\n",
              "    }\n",
              "\n",
              "    .dataframe tbody tr th {\n",
              "        vertical-align: top;\n",
              "    }\n",
              "\n",
              "    .dataframe thead th {\n",
              "        text-align: right;\n",
              "    }\n",
              "</style>\n",
              "<table border=\"1\" class=\"dataframe\">\n",
              "  <thead>\n",
              "    <tr style=\"text-align: right;\">\n",
              "      <th></th>\n",
              "      <th>name</th>\n",
              "      <th>strand</th>\n",
              "      <th>Assay title</th>\n",
              "      <th>ontology_curie</th>\n",
              "      <th>biosample_name</th>\n",
              "      <th>biosample_type</th>\n",
              "      <th>data_source</th>\n",
              "      <th>nonzero_mean</th>\n",
              "    </tr>\n",
              "  </thead>\n",
              "  <tbody>\n",
              "    <tr>\n",
              "      <th>0</th>\n",
              "      <td>hCAGE UBERON:0000955</td>\n",
              "      <td>+</td>\n",
              "      <td>hCAGE</td>\n",
              "      <td>UBERON:0000955</td>\n",
              "      <td>brain</td>\n",
              "      <td>tissue</td>\n",
              "      <td>fantom</td>\n",
              "      <td>28.432245</td>\n",
              "    </tr>\n",
              "    <tr>\n",
              "      <th>1</th>\n",
              "      <td>hCAGE UBERON:0002048</td>\n",
              "      <td>+</td>\n",
              "      <td>hCAGE</td>\n",
              "      <td>UBERON:0002048</td>\n",
              "      <td>lung</td>\n",
              "      <td>tissue</td>\n",
              "      <td>fantom</td>\n",
              "      <td>30.655853</td>\n",
              "    </tr>\n",
              "    <tr>\n",
              "      <th>2</th>\n",
              "      <td>hCAGE UBERON:0000955</td>\n",
              "      <td>-</td>\n",
              "      <td>hCAGE</td>\n",
              "      <td>UBERON:0000955</td>\n",
              "      <td>brain</td>\n",
              "      <td>tissue</td>\n",
              "      <td>fantom</td>\n",
              "      <td>28.432245</td>\n",
              "    </tr>\n",
              "    <tr>\n",
              "      <th>3</th>\n",
              "      <td>hCAGE UBERON:0002048</td>\n",
              "      <td>-</td>\n",
              "      <td>hCAGE</td>\n",
              "      <td>UBERON:0002048</td>\n",
              "      <td>lung</td>\n",
              "      <td>tissue</td>\n",
              "      <td>fantom</td>\n",
              "      <td>30.655853</td>\n",
              "    </tr>\n",
              "  </tbody>\n",
              "</table>\n",
              "</div>\n",
              "    <div class=\"colab-df-buttons\">\n",
              "\n",
              "  <div class=\"colab-df-container\">\n",
              "    <button class=\"colab-df-convert\" onclick=\"convertToInteractive('df-bcfcaa8c-daec-436e-95a0-0f63c483eee1')\"\n",
              "            title=\"Convert this dataframe to an interactive table.\"\n",
              "            style=\"display:none;\">\n",
              "\n",
              "  <svg xmlns=\"http://www.w3.org/2000/svg\" height=\"24px\" viewBox=\"0 -960 960 960\">\n",
              "    <path d=\"M120-120v-720h720v720H120Zm60-500h600v-160H180v160Zm220 220h160v-160H400v160Zm0 220h160v-160H400v160ZM180-400h160v-160H180v160Zm440 0h160v-160H620v160ZM180-180h160v-160H180v160Zm440 0h160v-160H620v160Z\"/>\n",
              "  </svg>\n",
              "    </button>\n",
              "\n",
              "  <style>\n",
              "    .colab-df-container {\n",
              "      display:flex;\n",
              "      gap: 12px;\n",
              "    }\n",
              "\n",
              "    .colab-df-convert {\n",
              "      background-color: #E8F0FE;\n",
              "      border: none;\n",
              "      border-radius: 50%;\n",
              "      cursor: pointer;\n",
              "      display: none;\n",
              "      fill: #1967D2;\n",
              "      height: 32px;\n",
              "      padding: 0 0 0 0;\n",
              "      width: 32px;\n",
              "    }\n",
              "\n",
              "    .colab-df-convert:hover {\n",
              "      background-color: #E2EBFA;\n",
              "      box-shadow: 0px 1px 2px rgba(60, 64, 67, 0.3), 0px 1px 3px 1px rgba(60, 64, 67, 0.15);\n",
              "      fill: #174EA6;\n",
              "    }\n",
              "\n",
              "    .colab-df-buttons div {\n",
              "      margin-bottom: 4px;\n",
              "    }\n",
              "\n",
              "    [theme=dark] .colab-df-convert {\n",
              "      background-color: #3B4455;\n",
              "      fill: #D2E3FC;\n",
              "    }\n",
              "\n",
              "    [theme=dark] .colab-df-convert:hover {\n",
              "      background-color: #434B5C;\n",
              "      box-shadow: 0px 1px 3px 1px rgba(0, 0, 0, 0.15);\n",
              "      filter: drop-shadow(0px 1px 2px rgba(0, 0, 0, 0.3));\n",
              "      fill: #FFFFFF;\n",
              "    }\n",
              "  </style>\n",
              "\n",
              "    <script>\n",
              "      const buttonEl =\n",
              "        document.querySelector('#df-bcfcaa8c-daec-436e-95a0-0f63c483eee1 button.colab-df-convert');\n",
              "      buttonEl.style.display =\n",
              "        google.colab.kernel.accessAllowed ? 'block' : 'none';\n",
              "\n",
              "      async function convertToInteractive(key) {\n",
              "        const element = document.querySelector('#df-bcfcaa8c-daec-436e-95a0-0f63c483eee1');\n",
              "        const dataTable =\n",
              "          await google.colab.kernel.invokeFunction('convertToInteractive',\n",
              "                                                    [key], {});\n",
              "        if (!dataTable) return;\n",
              "\n",
              "        const docLinkHtml = 'Like what you see? Visit the ' +\n",
              "          '<a target=\"_blank\" href=https://colab.research.google.com/notebooks/data_table.ipynb>data table notebook</a>'\n",
              "          + ' to learn more about interactive tables.';\n",
              "        element.innerHTML = '';\n",
              "        dataTable['output_type'] = 'display_data';\n",
              "        await google.colab.output.renderOutput(dataTable, element);\n",
              "        const docLink = document.createElement('div');\n",
              "        docLink.innerHTML = docLinkHtml;\n",
              "        element.appendChild(docLink);\n",
              "      }\n",
              "    </script>\n",
              "  </div>\n",
              "\n",
              "\n",
              "    <div id=\"df-51f23828-1fe0-4f9f-b0bf-ee347c5583f0\">\n",
              "      <button class=\"colab-df-quickchart\" onclick=\"quickchart('df-51f23828-1fe0-4f9f-b0bf-ee347c5583f0')\"\n",
              "                title=\"Suggest charts\"\n",
              "                style=\"display:none;\">\n",
              "\n",
              "<svg xmlns=\"http://www.w3.org/2000/svg\" height=\"24px\"viewBox=\"0 0 24 24\"\n",
              "     width=\"24px\">\n",
              "    <g>\n",
              "        <path d=\"M19 3H5c-1.1 0-2 .9-2 2v14c0 1.1.9 2 2 2h14c1.1 0 2-.9 2-2V5c0-1.1-.9-2-2-2zM9 17H7v-7h2v7zm4 0h-2V7h2v10zm4 0h-2v-4h2v4z\"/>\n",
              "    </g>\n",
              "</svg>\n",
              "      </button>\n",
              "\n",
              "<style>\n",
              "  .colab-df-quickchart {\n",
              "      --bg-color: #E8F0FE;\n",
              "      --fill-color: #1967D2;\n",
              "      --hover-bg-color: #E2EBFA;\n",
              "      --hover-fill-color: #174EA6;\n",
              "      --disabled-fill-color: #AAA;\n",
              "      --disabled-bg-color: #DDD;\n",
              "  }\n",
              "\n",
              "  [theme=dark] .colab-df-quickchart {\n",
              "      --bg-color: #3B4455;\n",
              "      --fill-color: #D2E3FC;\n",
              "      --hover-bg-color: #434B5C;\n",
              "      --hover-fill-color: #FFFFFF;\n",
              "      --disabled-bg-color: #3B4455;\n",
              "      --disabled-fill-color: #666;\n",
              "  }\n",
              "\n",
              "  .colab-df-quickchart {\n",
              "    background-color: var(--bg-color);\n",
              "    border: none;\n",
              "    border-radius: 50%;\n",
              "    cursor: pointer;\n",
              "    display: none;\n",
              "    fill: var(--fill-color);\n",
              "    height: 32px;\n",
              "    padding: 0;\n",
              "    width: 32px;\n",
              "  }\n",
              "\n",
              "  .colab-df-quickchart:hover {\n",
              "    background-color: var(--hover-bg-color);\n",
              "    box-shadow: 0 1px 2px rgba(60, 64, 67, 0.3), 0 1px 3px 1px rgba(60, 64, 67, 0.15);\n",
              "    fill: var(--button-hover-fill-color);\n",
              "  }\n",
              "\n",
              "  .colab-df-quickchart-complete:disabled,\n",
              "  .colab-df-quickchart-complete:disabled:hover {\n",
              "    background-color: var(--disabled-bg-color);\n",
              "    fill: var(--disabled-fill-color);\n",
              "    box-shadow: none;\n",
              "  }\n",
              "\n",
              "  .colab-df-spinner {\n",
              "    border: 2px solid var(--fill-color);\n",
              "    border-color: transparent;\n",
              "    border-bottom-color: var(--fill-color);\n",
              "    animation:\n",
              "      spin 1s steps(1) infinite;\n",
              "  }\n",
              "\n",
              "  @keyframes spin {\n",
              "    0% {\n",
              "      border-color: transparent;\n",
              "      border-bottom-color: var(--fill-color);\n",
              "      border-left-color: var(--fill-color);\n",
              "    }\n",
              "    20% {\n",
              "      border-color: transparent;\n",
              "      border-left-color: var(--fill-color);\n",
              "      border-top-color: var(--fill-color);\n",
              "    }\n",
              "    30% {\n",
              "      border-color: transparent;\n",
              "      border-left-color: var(--fill-color);\n",
              "      border-top-color: var(--fill-color);\n",
              "      border-right-color: var(--fill-color);\n",
              "    }\n",
              "    40% {\n",
              "      border-color: transparent;\n",
              "      border-right-color: var(--fill-color);\n",
              "      border-top-color: var(--fill-color);\n",
              "    }\n",
              "    60% {\n",
              "      border-color: transparent;\n",
              "      border-right-color: var(--fill-color);\n",
              "    }\n",
              "    80% {\n",
              "      border-color: transparent;\n",
              "      border-right-color: var(--fill-color);\n",
              "      border-bottom-color: var(--fill-color);\n",
              "    }\n",
              "    90% {\n",
              "      border-color: transparent;\n",
              "      border-bottom-color: var(--fill-color);\n",
              "    }\n",
              "  }\n",
              "</style>\n",
              "\n",
              "      <script>\n",
              "        async function quickchart(key) {\n",
              "          const quickchartButtonEl =\n",
              "            document.querySelector('#' + key + ' button');\n",
              "          quickchartButtonEl.disabled = true;  // To prevent multiple clicks.\n",
              "          quickchartButtonEl.classList.add('colab-df-spinner');\n",
              "          try {\n",
              "            const charts = await google.colab.kernel.invokeFunction(\n",
              "                'suggestCharts', [key], {});\n",
              "          } catch (error) {\n",
              "            console.error('Error during call to suggestCharts:', error);\n",
              "          }\n",
              "          quickchartButtonEl.classList.remove('colab-df-spinner');\n",
              "          quickchartButtonEl.classList.add('colab-df-quickchart-complete');\n",
              "        }\n",
              "        (() => {\n",
              "          let quickchartButtonEl =\n",
              "            document.querySelector('#df-51f23828-1fe0-4f9f-b0bf-ee347c5583f0 button');\n",
              "          quickchartButtonEl.style.display =\n",
              "            google.colab.kernel.accessAllowed ? 'block' : 'none';\n",
              "        })();\n",
              "      </script>\n",
              "    </div>\n",
              "    </div>\n",
              "  </div>\n"
            ],
            "text/plain": [
              "                   name strand  ... data_source nonzero_mean\n",
              "0  hCAGE UBERON:0000955      +  ...      fantom    28.432245\n",
              "1  hCAGE UBERON:0002048      +  ...      fantom    30.655853\n",
              "2  hCAGE UBERON:0000955      -  ...      fantom    28.432245\n",
              "3  hCAGE UBERON:0002048      -  ...      fantom    30.655853\n",
              "\n",
              "[4 rows x 8 columns]"
            ]
          },
          "metadata": {},
          "execution_count": 51
        }
      ],
      "source": [
        "output.cage.metadata"
      ]
    },
    {
      "cell_type": "markdown",
      "metadata": {
        "id": "HemMKknzkYVt"
      },
      "source": [
        "See the\n",
        "[output metadata documentation](https://www.alphagenomedocs.com/exploring_model_metadata.html)\n",
        "for more information on the output types and output shapes. For the mapping\n",
        "between tissue names (e.g. 'brain' -> 'UBERON:0000955') and ontology terms, see\n",
        "this [tutorial](tissue_ontology_mapping.ipynb)."
      ]
    },
    {
      "cell_type": "markdown",
      "metadata": {
        "id": "rL6BQQfqkYVt"
      },
      "source": [
        "## Predict outputs for a genome interval (reference genome)"
      ]
    },
    {
      "cell_type": "markdown",
      "metadata": {
        "id": "cZuGzeStkYVt"
      },
      "source": [
        "For convenience, you can also directly make predictions for a human reference\n",
        "genome sequence specified by a **genomic interval**. For example, let's predict\n",
        "RNA-seq for tissue 'Right liver lobe' in a 1MB region of Chromosome 19 around\n",
        "the gene *CYP2B6*, which encodes an enzyme involved in drug metabolism, and is\n",
        "primarily expressed in the liver.\n",
        "\n",
        "We first load up a GTF file containing gene and transcript locations as\n",
        "annotated by GENCODE (more information on GTF format\n",
        "[here](https://www.gencodegenes.org/pages/data_format.html)):"
      ]
    },
    {
      "cell_type": "code",
      "execution_count": null,
      "metadata": {
        "id": "1WE7BBh6klIA"
      },
      "outputs": [],
      "source": [
        "# The GTF file contains information on the location of all trancripts.\n",
        "# Note that we use genome assembly hg38 for human.\n",
        "gtf = pd.read_feather(\n",
        "    'https://storage.googleapis.com/alphagenome/reference/gencode/'\n",
        "    'hg38/gencode.v46.annotation.gtf.gz.feather'\n",
        ")\n",
        "\n",
        "# Set up transcript extractors using the information in the GTF file.\n",
        "gtf_transcripts = gene_annotation.filter_protein_coding(gtf)\n",
        "gtf_transcripts = gene_annotation.filter_to_longest_transcript(gtf_transcripts)\n",
        "transcript_extractor = transcript_utils.TranscriptExtractor(gtf_transcripts)"
      ]
    },
    {
      "cell_type": "markdown",
      "metadata": {
        "id": "Q5PjqsMCkYVt"
      },
      "source": [
        "And then fetch the gene's location as a `genome.Interval` object by passing\n",
        "either its `gene_symbol` (HGNC naming convention) or ENSEMBL `gene_id`:"
      ]
    },
    {
      "cell_type": "code",
      "execution_count": null,
      "metadata": {
        "id": "pngLCscokYVt",
        "outputId": "8670b248-e903-4ad5-fd68-a3ade9246c6a"
      },
      "outputs": [
        {
          "output_type": "execute_result",
          "data": {
            "text/plain": [
              "Interval(chromosome='chr19', start=40991281, end=41018398, strand='+', name='CYP2B6')"
            ]
          },
          "metadata": {},
          "execution_count": 53
        }
      ],
      "source": [
        "interval = gene_annotation.get_gene_interval(gtf, gene_symbol='CYP2B6')\n",
        "interval"
      ]
    },
    {
      "cell_type": "markdown",
      "metadata": {
        "id": "6fLrfgyvkYVt"
      },
      "source": [
        "We can resize it to a length compatible with the model:"
      ]
    },
    {
      "cell_type": "code",
      "execution_count": null,
      "metadata": {
        "id": "VV5k05MykYVt"
      },
      "outputs": [],
      "source": [
        "interval = interval.resize(dna_client.SEQUENCE_LENGTH_1MB)"
      ]
    },
    {
      "cell_type": "markdown",
      "metadata": {
        "id": "pu1A32KJkYVt"
      },
      "source": [
        "The `.resize()` method adjusts the interval to the specified width by expanding\n",
        "(or contracting) around its original center. Note that\n",
        "`dna_model.predict_interval()` interprets this resizing as an expansion of the\n",
        "actual genomic sequence rather than padding tokens."
      ]
    },
    {
      "cell_type": "code",
      "execution_count": null,
      "metadata": {
        "id": "3TdgcNRskYVt",
        "outputId": "0efa4ce7-bad0-4191-b998-2424b1ebd23e"
      },
      "outputs": [
        {
          "output_type": "execute_result",
          "data": {
            "text/plain": [
              "1048576"
            ]
          },
          "metadata": {},
          "execution_count": 55
        }
      ],
      "source": [
        "interval.width"
      ]
    },
    {
      "cell_type": "markdown",
      "metadata": {
        "id": "hI5hi6DckYVu"
      },
      "source": [
        "See the\n",
        "[essential commands documentation](https://www.alphagenomedocs.com/colabs/essential_commands.html)\n",
        "for more handy commands like `resize`.\n",
        "\n",
        "Note that AlphaGenome supports the following input sequence lengths:"
      ]
    },
    {
      "cell_type": "code",
      "execution_count": null,
      "metadata": {
        "id": "22gZecZTkYVu",
        "outputId": "c88c91ee-494d-46e3-b624-1bc990475d46"
      },
      "outputs": [
        {
          "output_type": "execute_result",
          "data": {
            "text/plain": [
              "dict_keys(['SEQUENCE_LENGTH_2KB', 'SEQUENCE_LENGTH_16KB', 'SEQUENCE_LENGTH_100KB', 'SEQUENCE_LENGTH_500KB', 'SEQUENCE_LENGTH_1MB'])"
            ]
          },
          "metadata": {},
          "execution_count": 56
        }
      ],
      "source": [
        "dna_client.SUPPORTED_SEQUENCE_LENGTHS.keys()"
      ]
    },
    {
      "cell_type": "markdown",
      "metadata": {
        "id": "oRk3W7yjkYVu"
      },
      "source": [
        "We can now make predictions using our interval:"
      ]
    },
    {
      "cell_type": "code",
      "execution_count": null,
      "metadata": {
        "id": "ME7NH0B-kYVu",
        "outputId": "3f1985e4-6960-4dc3-d6b8-0651f66136e6"
      },
      "outputs": [
        {
          "output_type": "execute_result",
          "data": {
            "text/plain": [
              "(1048576, 3)"
            ]
          },
          "metadata": {},
          "execution_count": 57
        }
      ],
      "source": [
        "output = dna_model.predict_interval(\n",
        "    interval=interval,\n",
        "    requested_outputs=[dna_client.OutputType.RNA_SEQ],\n",
        "    ontology_terms=['UBERON:0001114'],\n",
        ")  # Right liver lobe.\n",
        "\n",
        "output.rna_seq.values.shape"
      ]
    },
    {
      "cell_type": "markdown",
      "metadata": {
        "id": "HZD6iGfrkYVu"
      },
      "source": [
        "In general, you can have multiple tracks for a given ontology term. In this\n",
        "case, we have 3 RNA-seq tracks for the tissue \"Right liver lobe\".\n",
        "\n",
        "Let's visualise these predictions. It's helpful visualise gene transcripts\n",
        "alongside the predicted tracks, so we extract them here:"
      ]
    },
    {
      "cell_type": "code",
      "execution_count": null,
      "metadata": {
        "id": "zU61GXrekYVu",
        "outputId": "388e341a-0753-4b9f-df5e-ef27f81f4a89"
      },
      "outputs": [
        {
          "output_type": "stream",
          "name": "stdout",
          "text": [
            "Extracted 29 transcripts in this interval.\n"
          ]
        }
      ],
      "source": [
        "longest_transcripts = transcript_extractor.extract(interval)\n",
        "print(f'Extracted {len(longest_transcripts)} transcripts in this interval.')"
      ]
    },
    {
      "cell_type": "markdown",
      "metadata": {
        "id": "9hUwvkl_kYVu"
      },
      "source": [
        "We also provide a\n",
        "[visualization basics guide](https://www.alphagenomedocs.com/visualization_library_basics.html)\n",
        "that integrates nicely with `TrackData` and other objects returned by the model\n",
        "API."
      ]
    },
    {
      "cell_type": "code",
      "execution_count": null,
      "metadata": {
        "colab": {
          "height": 303
        },
        "id": "MjJsLGnGkYVu",
        "outputId": "fceff47c-5bd0-41c4-af78-02948050ed2e"
      },
      "outputs": [
        {
          "output_type": "display_data",
          "data": {
            "image/png": "[encoded data removed]",
            "text/plain": [
              "<Figure size 1440x320.4 with 4 Axes>"
            ]
          },
          "metadata": {
            "image/png": {
              "height": 286,
              "width": 1406
            },
            "needs_background": "light"
          }
        }
      ],
      "source": [
        "plot_components.plot(\n",
        "    components=[\n",
        "        plot_components.TranscriptAnnotation(longest_transcripts),\n",
        "        plot_components.Tracks(output.rna_seq),\n",
        "    ],\n",
        "    interval=output.rna_seq.interval,\n",
        ")\n",
        "\n",
        "plt.show()"
      ]
    },
    {
      "cell_type": "markdown",
      "metadata": {
        "id": "uBtGbT0skYVu"
      },
      "source": [
        "This plot visualises the 3 predicted RNA-seq tracks and also marks the location\n",
        "of the longest transcript per gene in the 1MB region.\n",
        "\n",
        "We can zoom in to the middle of the plot by resizing the interval:"
      ]
    },
    {
      "cell_type": "code",
      "execution_count": null,
      "metadata": {
        "colab": {
          "height": 278
        },
        "id": "J8_0AvHbkYVu",
        "outputId": "75e2eb18-5ff9-4e3c-8dc7-877e4cd285ba"
      },
      "outputs": [
        {
          "output_type": "display_data",
          "data": {
            "image/png": "[encoded data removed]",
            "text/plain": [
              "<Figure size 1440x288 with 4 Axes>"
            ]
          },
          "metadata": {
            "image/png": {
              "height": 261,
              "width": 1406
            },
            "needs_background": "light"
          }
        }
      ],
      "source": [
        "plot_components.plot(\n",
        "    components=[\n",
        "        plot_components.TranscriptAnnotation(\n",
        "            longest_transcripts, fig_height=0.1\n",
        "        ),\n",
        "        plot_components.Tracks(output.rna_seq),\n",
        "    ],\n",
        "    interval=output.rna_seq.interval.resize(2**15),\n",
        ")\n",
        "\n",
        "plt.show()"
      ]
    },
    {
      "cell_type": "markdown",
      "metadata": {
        "id": "1o5l2yUGkYVu"
      },
      "source": [
        "You can see here that predicted RNA-seq values are nicely aligned with the\n",
        "location of exons, and that the predictions are stranded – the predicted values\n",
        "are much higher for the positive strand, where the gene is located. We see that\n",
        "the *CYP2B6* gene is on the positive strand since the arrows in the transcript\n",
        "go from left to right.\n",
        "\n",
        "For more detail on the visualization library, please refer to the\n",
        "[visualization basics guide](https://www.alphagenomedocs.com/visualization_library_basics.html)\n",
        "and\n",
        "[library documentation](https://www.alphagenomedocs.com/api/visualization.html)."
      ]
    },
    {
      "cell_type": "markdown",
      "metadata": {
        "id": "rPQJQirLkYVu"
      },
      "source": [
        "## Predict variant effects"
      ]
    },
    {
      "cell_type": "markdown",
      "metadata": {
        "id": "ktZ0PqhQkYVu"
      },
      "source": [
        "We can predict the effect of a variant on a specific output type and tissue by\n",
        "making predictions for the reference (REF) and alternative (ALT) allele\n",
        "sequences.\n",
        "\n",
        "We specify the variant by defining a `genome.Variant` object. The specific\n",
        "variant below is a known variant affecting gene expression in colon tissue:"
      ]
    },
    {
      "cell_type": "code",
      "execution_count": null,
      "metadata": {
        "id": "YaxavVV_kYVu"
      },
      "outputs": [],
      "source": [
        "variant = genome.Variant(\n",
        "    chromosome='chr22',\n",
        "    position=36201698,\n",
        "    reference_bases='A',  # Can differ from the true reference genome base.\n",
        "    alternate_bases='C',\n",
        ")"
      ]
    },
    {
      "cell_type": "markdown",
      "metadata": {
        "id": "HE2_iU6akYVu"
      },
      "source": [
        "Next, we define the interval over which to make the REF and ALT predictions. A\n",
        "quick way to get a `genome.Interval` from a `genome.Variant` is by calling\n",
        "`.reference_interval`, which we can resize to a model-compatible sequence\n",
        "length:"
      ]
    },
    {
      "cell_type": "code",
      "execution_count": null,
      "metadata": {
        "id": "0jxThai2kYVu"
      },
      "outputs": [],
      "source": [
        "interval = variant.reference_interval.resize(dna_client.SEQUENCE_LENGTH_1MB)"
      ]
    },
    {
      "cell_type": "markdown",
      "metadata": {
        "id": "Oupoz0bGkYVu"
      },
      "source": [
        "We then use `predict_variant` to get the REF and ALT RNA-seq predictions in the\n",
        "interval for \"Colon - Transverse\" tissue (`UBERON:0001157`):"
      ]
    },
    {
      "cell_type": "code",
      "execution_count": null,
      "metadata": {
        "id": "TZbfcADGkYVu"
      },
      "outputs": [],
      "source": [
        "variant_output = dna_model.predict_variant(\n",
        "    interval=interval,\n",
        "    variant=variant,\n",
        "    requested_outputs=[dna_client.OutputType.RNA_SEQ],\n",
        "    ontology_terms=['UBERON:0001157'],\n",
        ")  # Colon - Transverse."
      ]
    },
    {
      "cell_type": "markdown",
      "metadata": {
        "id": "YzYgHwSAkYVu"
      },
      "source": [
        "We can plot the predicted REF and ALT values as a single plot and zoom in on the\n",
        "affected gene to better visualise the variant's effect on gene expression:"
      ]
    },
    {
      "cell_type": "code",
      "execution_count": null,
      "metadata": {
        "colab": {
          "height": 333
        },
        "id": "_OTUiWNjkYVu",
        "outputId": "8eed37c8-a812-4e48-eefb-58d59e3c2529"
      },
      "outputs": [
        {
          "output_type": "display_data",
          "data": {
            "image/png": "[encoded data removed]",
            "text/plain": [
              "<Figure size 1440x360 with 5 Axes>"
            ]
          },
          "metadata": {
            "image/png": {
              "height": 316,
              "width": 1472
            },
            "needs_background": "light"
          }
        }
      ],
      "source": [
        "longest_transcripts = transcript_extractor.extract(interval)\n",
        "\n",
        "plot_components.plot(\n",
        "    [\n",
        "        plot_components.TranscriptAnnotation(longest_transcripts),\n",
        "        plot_components.OverlaidTracks(\n",
        "            tdata={\n",
        "                'REF': variant_output.reference.rna_seq,\n",
        "                'ALT': variant_output.alternate.rna_seq,\n",
        "            },\n",
        "            colors={'REF': 'dimgrey', 'ALT': 'red'},\n",
        "        ),\n",
        "    ],\n",
        "    interval=variant_output.reference.rna_seq.interval.resize(2**15),\n",
        "    # Annotate the location of the variant as a vertical line.\n",
        "    annotations=[plot_components.VariantAnnotation([variant], alpha=0.8)],\n",
        ")\n",
        "plt.show()"
      ]
    },
    {
      "cell_type": "markdown",
      "metadata": {
        "id": "dSz201LRkYVu"
      },
      "source": [
        "We see that the ALT allele (base 'C' at position 36201698) is associated with\n",
        "both lower expression and an exon skipping event in the *APOL4* gene on the\n",
        "negative strand. Note that we can ignore the uppermost line plot which shows a\n",
        "very minimal predicted amount of expression on the positive DNA strand (check\n",
        "the y axis scales). It is possible to adjust the y axes limits, see\n",
        "[visualization basics](https://www.alphagenomedocs.com/visualization_library_basics.html#visualization-library-basics)\n",
        "and\n",
        "[library documentation](https://www.alphagenomedocs.com/api/visualization.html)."
      ]
    },
    {
      "cell_type": "markdown",
      "metadata": {
        "id": "7s4bDxczkYVu"
      },
      "source": [
        "## Scoring the effect of a genetic variant"
      ]
    },
    {
      "cell_type": "markdown",
      "metadata": {
        "id": "8fTtdkpM-Ycm"
      },
      "source": [
        "Scoring the effect of a genetic variant involves making predictions for the REF\n",
        "and ALT sequences and aggregating the track signal. This is implemented in\n",
        "`score_variant`, which uses specific `variant_scorer` configs for aggregation.\n",
        "\n",
        "We provide a set of recommended variant scoring configurations as a dictionary\n",
        "(`variant_scorers.RECOMMENDED_VARIANT_SCORERS`), covering all output types,\n",
        "which we have assessed for their performance at domain-specific tasks. See the\n",
        "[variant scoring documentation](https://www.alphagenomedocs.com/variant_scoring.html)\n",
        "for more information. Here is a quick demo:"
      ]
    },
    {
      "cell_type": "code",
      "execution_count": null,
      "metadata": {
        "id": "Aj_T3sE8kYVu"
      },
      "outputs": [],
      "source": [
        "variant_scorer = variant_scorers.RECOMMENDED_VARIANT_SCORERS['RNA_SEQ']\n",
        "\n",
        "variant_scores = dna_model.score_variant(\n",
        "    interval=interval, variant=variant, variant_scorers=[variant_scorer]\n",
        ")"
      ]
    },
    {
      "cell_type": "markdown",
      "metadata": {
        "id": "ncUCGp0JkYVu"
      },
      "source": [
        "The returned `variant_scores` is a list of length 1 because we only specified 1\n",
        "scorer:"
      ]
    },
    {
      "cell_type": "code",
      "execution_count": null,
      "metadata": {
        "id": "xI2aR0OtkYVu",
        "outputId": "494ec293-ddef-44d6-bada-00ae9ba9ad1d"
      },
      "outputs": [
        {
          "output_type": "execute_result",
          "data": {
            "text/plain": [
              "1"
            ]
          },
          "metadata": {},
          "execution_count": 66
        }
      ],
      "source": [
        "len(variant_scores)"
      ]
    },
    {
      "cell_type": "markdown",
      "metadata": {
        "id": "Oow5vOLVkYVu"
      },
      "source": [
        "The actual scores per variant are in `AnnData` format, which is a way of\n",
        "annotating data (the numerical scores) with additional information about the\n",
        "rows and columns."
      ]
    },
    {
      "cell_type": "code",
      "execution_count": null,
      "metadata": {
        "id": "WCy_9aQ2kYVu",
        "outputId": "94be89d4-ccb1-4ce6-abf4-13965077d91c"
      },
      "outputs": [
        {
          "output_type": "execute_result",
          "data": {
            "text/plain": [
              "AnnData object with n_obs × n_vars = 37 × 667\n",
              "    obs: 'gene_id', 'strand', 'gene_name', 'gene_type'\n",
              "    var: 'name', 'strand', 'Assay title', 'ontology_curie', 'biosample_name', 'biosample_type', 'biosample_life_stage', 'gtex_tissue', 'data_source', 'endedness', 'genetically_modified', 'nonzero_mean'\n",
              "    uns: 'interval', 'variant', 'variant_scorer'\n",
              "    layers: 'quantiles'"
            ]
          },
          "metadata": {},
          "execution_count": 67
        }
      ],
      "source": [
        "variant_scores = variant_scores[0]\n",
        "variant_scores"
      ]
    },
    {
      "cell_type": "markdown",
      "metadata": {
        "id": "2URPdQGtkYVu"
      },
      "source": [
        "`AnnData` objects have the following components:"
      ]
    },
    {
      "cell_type": "markdown",
      "metadata": {
        "id": "ssPveqJvkYVu"
      },
      "source": [
        "<a href=\"https://services.google.com/fh/files/misc/anndata.png\"><img src=\"https://services.google.com/fh/files/misc/anndata.png\" alt=\"anndata\" border=\"0\" height=500></a>"
      ]
    },
    {
      "cell_type": "markdown",
      "metadata": {
        "id": "X1u94SdOkYVu"
      },
      "source": [
        "We have a variant effect score for each of the 37 genes in the interval and each\n",
        "of the 667 `RNA_SEQ` tracks:"
      ]
    },
    {
      "cell_type": "code",
      "execution_count": null,
      "metadata": {
        "id": "eyv_SHT_kYVu",
        "outputId": "19319c9b-c12a-434a-e119-ae6eb07c6e33"
      },
      "outputs": [
        {
          "output_type": "execute_result",
          "data": {
            "text/plain": [
              "(37, 667)"
            ]
          },
          "metadata": {},
          "execution_count": 68
        }
      ],
      "source": [
        "variant_scores.X.shape"
      ]
    },
    {
      "cell_type": "markdown",
      "metadata": {
        "id": "-3cT3a6FkYVu"
      },
      "source": [
        "We can access information on the 37 genes using `.obs`. Here are just first 5\n",
        "genes:"
      ]
    },
    {
      "cell_type": "code",
      "execution_count": null,
      "metadata": {
        "colab": {
          "height": 206
        },
        "id": "AQBAsm2skYVu",
        "outputId": "a9051688-b3bd-4be7-866d-f3430a70ea88"
      },
      "outputs": [
        {
          "output_type": "execute_result",
          "data": {
            "application/vnd.google.colaboratory.intrinsic+json": {
              "summary": "{\n  \"name\": \"variant_scores\",\n  \"rows\": 5,\n  \"fields\": [\n    {\n      \"column\": \"gene_id\",\n      \"properties\": {\n        \"dtype\": \"string\",\n        \"num_unique_values\": 5,\n        \"samples\": [\n          \"ENSG00000100336.18\",\n          \"ENSG00000100348.10\",\n          \"ENSG00000100342.22\"\n        ],\n        \"semantic_type\": \"\",\n        \"description\": \"\"\n      }\n    },\n    {\n      \"column\": \"strand\",\n      \"properties\": {\n        \"dtype\": \"category\",\n        \"num_unique_values\": 2,\n        \"samples\": [\n          \"+\",\n          \"-\"\n        ],\n        \"semantic_type\": \"\",\n        \"description\": \"\"\n      }\n    },\n    {\n      \"column\": \"gene_name\",\n      \"properties\": {\n        \"dtype\": \"string\",\n        \"num_unique_values\": 5,\n        \"samples\": [\n          \"APOL4\",\n          \"TXN2\"\n        ],\n        \"semantic_type\": \"\",\n        \"description\": \"\"\n      }\n    },\n    {\n      \"column\": \"gene_type\",\n      \"properties\": {\n        \"dtype\": \"category\",\n        \"num_unique_values\": 1,\n        \"samples\": [\n          \"protein_coding\"\n        ],\n        \"semantic_type\": \"\",\n        \"description\": \"\"\n      }\n    }\n  ]\n}",
              "type": "dataframe"
            },
            "text/html": [
              "\n",
              "  <div id=\"df-51a84608-8887-43a5-80c9-5a682c1106ee\" class=\"colab-df-container\">\n",
              "    <div>\n",
              "<style scoped>\n",
              "    .dataframe tbody tr th:only-of-type {\n",
              "        vertical-align: middle;\n",
              "    }\n",
              "\n",
              "    .dataframe tbody tr th {\n",
              "        vertical-align: top;\n",
              "    }\n",
              "\n",
              "    .dataframe thead th {\n",
              "        text-align: right;\n",
              "    }\n",
              "</style>\n",
              "<table border=\"1\" class=\"dataframe\">\n",
              "  <thead>\n",
              "    <tr style=\"text-align: right;\">\n",
              "      <th></th>\n",
              "      <th>gene_id</th>\n",
              "      <th>strand</th>\n",
              "      <th>gene_name</th>\n",
              "      <th>gene_type</th>\n",
              "    </tr>\n",
              "  </thead>\n",
              "  <tbody>\n",
              "    <tr>\n",
              "      <th>0</th>\n",
              "      <td>ENSG00000100320.24</td>\n",
              "      <td>-</td>\n",
              "      <td>RBFOX2</td>\n",
              "      <td>protein_coding</td>\n",
              "    </tr>\n",
              "    <tr>\n",
              "      <th>1</th>\n",
              "      <td>ENSG00000100336.18</td>\n",
              "      <td>-</td>\n",
              "      <td>APOL4</td>\n",
              "      <td>protein_coding</td>\n",
              "    </tr>\n",
              "    <tr>\n",
              "      <th>2</th>\n",
              "      <td>ENSG00000100342.22</td>\n",
              "      <td>+</td>\n",
              "      <td>APOL1</td>\n",
              "      <td>protein_coding</td>\n",
              "    </tr>\n",
              "    <tr>\n",
              "      <th>3</th>\n",
              "      <td>ENSG00000100345.23</td>\n",
              "      <td>-</td>\n",
              "      <td>MYH9</td>\n",
              "      <td>protein_coding</td>\n",
              "    </tr>\n",
              "    <tr>\n",
              "      <th>4</th>\n",
              "      <td>ENSG00000100348.10</td>\n",
              "      <td>-</td>\n",
              "      <td>TXN2</td>\n",
              "      <td>protein_coding</td>\n",
              "    </tr>\n",
              "  </tbody>\n",
              "</table>\n",
              "</div>\n",
              "    <div class=\"colab-df-buttons\">\n",
              "\n",
              "  <div class=\"colab-df-container\">\n",
              "    <button class=\"colab-df-convert\" onclick=\"convertToInteractive('df-51a84608-8887-43a5-80c9-5a682c1106ee')\"\n",
              "            title=\"Convert this dataframe to an interactive table.\"\n",
              "            style=\"display:none;\">\n",
              "\n",
              "  <svg xmlns=\"http://www.w3.org/2000/svg\" height=\"24px\" viewBox=\"0 -960 960 960\">\n",
              "    <path d=\"M120-120v-720h720v720H120Zm60-500h600v-160H180v160Zm220 220h160v-160H400v160Zm0 220h160v-160H400v160ZM180-400h160v-160H180v160Zm440 0h160v-160H620v160ZM180-180h160v-160H180v160Zm440 0h160v-160H620v160Z\"/>\n",
              "  </svg>\n",
              "    </button>\n",
              "\n",
              "  <style>\n",
              "    .colab-df-container {\n",
              "      display:flex;\n",
              "      gap: 12px;\n",
              "    }\n",
              "\n",
              "    .colab-df-convert {\n",
              "      background-color: #E8F0FE;\n",
              "      border: none;\n",
              "      border-radius: 50%;\n",
              "      cursor: pointer;\n",
              "      display: none;\n",
              "      fill: #1967D2;\n",
              "      height: 32px;\n",
              "      padding: 0 0 0 0;\n",
              "      width: 32px;\n",
              "    }\n",
              "\n",
              "    .colab-df-convert:hover {\n",
              "      background-color: #E2EBFA;\n",
              "      box-shadow: 0px 1px 2px rgba(60, 64, 67, 0.3), 0px 1px 3px 1px rgba(60, 64, 67, 0.15);\n",
              "      fill: #174EA6;\n",
              "    }\n",
              "\n",
              "    .colab-df-buttons div {\n",
              "      margin-bottom: 4px;\n",
              "    }\n",
              "\n",
              "    [theme=dark] .colab-df-convert {\n",
              "      background-color: #3B4455;\n",
              "      fill: #D2E3FC;\n",
              "    }\n",
              "\n",
              "    [theme=dark] .colab-df-convert:hover {\n",
              "      background-color: #434B5C;\n",
              "      box-shadow: 0px 1px 3px 1px rgba(0, 0, 0, 0.15);\n",
              "      filter: drop-shadow(0px 1px 2px rgba(0, 0, 0, 0.3));\n",
              "      fill: #FFFFFF;\n",
              "    }\n",
              "  </style>\n",
              "\n",
              "    <script>\n",
              "      const buttonEl =\n",
              "        document.querySelector('#df-51a84608-8887-43a5-80c9-5a682c1106ee button.colab-df-convert');\n",
              "      buttonEl.style.display =\n",
              "        google.colab.kernel.accessAllowed ? 'block' : 'none';\n",
              "\n",
              "      async function convertToInteractive(key) {\n",
              "        const element = document.querySelector('#df-51a84608-8887-43a5-80c9-5a682c1106ee');\n",
              "        const dataTable =\n",
              "          await google.colab.kernel.invokeFunction('convertToInteractive',\n",
              "                                                    [key], {});\n",
              "        if (!dataTable) return;\n",
              "\n",
              "        const docLinkHtml = 'Like what you see? Visit the ' +\n",
              "          '<a target=\"_blank\" href=https://colab.research.google.com/notebooks/data_table.ipynb>data table notebook</a>'\n",
              "          + ' to learn more about interactive tables.';\n",
              "        element.innerHTML = '';\n",
              "        dataTable['output_type'] = 'display_data';\n",
              "        await google.colab.output.renderOutput(dataTable, element);\n",
              "        const docLink = document.createElement('div');\n",
              "        docLink.innerHTML = docLinkHtml;\n",
              "        element.appendChild(docLink);\n",
              "      }\n",
              "    </script>\n",
              "  </div>\n",
              "\n",
              "\n",
              "    <div id=\"df-0c363962-7006-400c-b95d-98f40b2f9a1e\">\n",
              "      <button class=\"colab-df-quickchart\" onclick=\"quickchart('df-0c363962-7006-400c-b95d-98f40b2f9a1e')\"\n",
              "                title=\"Suggest charts\"\n",
              "                style=\"display:none;\">\n",
              "\n",
              "<svg xmlns=\"http://www.w3.org/2000/svg\" height=\"24px\"viewBox=\"0 0 24 24\"\n",
              "     width=\"24px\">\n",
              "    <g>\n",
              "        <path d=\"M19 3H5c-1.1 0-2 .9-2 2v14c0 1.1.9 2 2 2h14c1.1 0 2-.9 2-2V5c0-1.1-.9-2-2-2zM9 17H7v-7h2v7zm4 0h-2V7h2v10zm4 0h-2v-4h2v4z\"/>\n",
              "    </g>\n",
              "</svg>\n",
              "      </button>\n",
              "\n",
              "<style>\n",
              "  .colab-df-quickchart {\n",
              "      --bg-color: #E8F0FE;\n",
              "      --fill-color: #1967D2;\n",
              "      --hover-bg-color: #E2EBFA;\n",
              "      --hover-fill-color: #174EA6;\n",
              "      --disabled-fill-color: #AAA;\n",
              "      --disabled-bg-color: #DDD;\n",
              "  }\n",
              "\n",
              "  [theme=dark] .colab-df-quickchart {\n",
              "      --bg-color: #3B4455;\n",
              "      --fill-color: #D2E3FC;\n",
              "      --hover-bg-color: #434B5C;\n",
              "      --hover-fill-color: #FFFFFF;\n",
              "      --disabled-bg-color: #3B4455;\n",
              "      --disabled-fill-color: #666;\n",
              "  }\n",
              "\n",
              "  .colab-df-quickchart {\n",
              "    background-color: var(--bg-color);\n",
              "    border: none;\n",
              "    border-radius: 50%;\n",
              "    cursor: pointer;\n",
              "    display: none;\n",
              "    fill: var(--fill-color);\n",
              "    height: 32px;\n",
              "    padding: 0;\n",
              "    width: 32px;\n",
              "  }\n",
              "\n",
              "  .colab-df-quickchart:hover {\n",
              "    background-color: var(--hover-bg-color);\n",
              "    box-shadow: 0 1px 2px rgba(60, 64, 67, 0.3), 0 1px 3px 1px rgba(60, 64, 67, 0.15);\n",
              "    fill: var(--button-hover-fill-color);\n",
              "  }\n",
              "\n",
              "  .colab-df-quickchart-complete:disabled,\n",
              "  .colab-df-quickchart-complete:disabled:hover {\n",
              "    background-color: var(--disabled-bg-color);\n",
              "    fill: var(--disabled-fill-color);\n",
              "    box-shadow: none;\n",
              "  }\n",
              "\n",
              "  .colab-df-spinner {\n",
              "    border: 2px solid var(--fill-color);\n",
              "    border-color: transparent;\n",
              "    border-bottom-color: var(--fill-color);\n",
              "    animation:\n",
              "      spin 1s steps(1) infinite;\n",
              "  }\n",
              "\n",
              "  @keyframes spin {\n",
              "    0% {\n",
              "      border-color: transparent;\n",
              "      border-bottom-color: var(--fill-color);\n",
              "      border-left-color: var(--fill-color);\n",
              "    }\n",
              "    20% {\n",
              "      border-color: transparent;\n",
              "      border-left-color: var(--fill-color);\n",
              "      border-top-color: var(--fill-color);\n",
              "    }\n",
              "    30% {\n",
              "      border-color: transparent;\n",
              "      border-left-color: var(--fill-color);\n",
              "      border-top-color: var(--fill-color);\n",
              "      border-right-color: var(--fill-color);\n",
              "    }\n",
              "    40% {\n",
              "      border-color: transparent;\n",
              "      border-right-color: var(--fill-color);\n",
              "      border-top-color: var(--fill-color);\n",
              "    }\n",
              "    60% {\n",
              "      border-color: transparent;\n",
              "      border-right-color: var(--fill-color);\n",
              "    }\n",
              "    80% {\n",
              "      border-color: transparent;\n",
              "      border-right-color: var(--fill-color);\n",
              "      border-bottom-color: var(--fill-color);\n",
              "    }\n",
              "    90% {\n",
              "      border-color: transparent;\n",
              "      border-bottom-color: var(--fill-color);\n",
              "    }\n",
              "  }\n",
              "</style>\n",
              "\n",
              "      <script>\n",
              "        async function quickchart(key) {\n",
              "          const quickchartButtonEl =\n",
              "            document.querySelector('#' + key + ' button');\n",
              "          quickchartButtonEl.disabled = true;  // To prevent multiple clicks.\n",
              "          quickchartButtonEl.classList.add('colab-df-spinner');\n",
              "          try {\n",
              "            const charts = await google.colab.kernel.invokeFunction(\n",
              "                'suggestCharts', [key], {});\n",
              "          } catch (error) {\n",
              "            console.error('Error during call to suggestCharts:', error);\n",
              "          }\n",
              "          quickchartButtonEl.classList.remove('colab-df-spinner');\n",
              "          quickchartButtonEl.classList.add('colab-df-quickchart-complete');\n",
              "        }\n",
              "        (() => {\n",
              "          let quickchartButtonEl =\n",
              "            document.querySelector('#df-0c363962-7006-400c-b95d-98f40b2f9a1e button');\n",
              "          quickchartButtonEl.style.display =\n",
              "            google.colab.kernel.accessAllowed ? 'block' : 'none';\n",
              "        })();\n",
              "      </script>\n",
              "    </div>\n",
              "    </div>\n",
              "  </div>\n"
            ],
            "text/plain": [
              "              gene_id strand gene_name       gene_type\n",
              "0  ENSG00000100320.24      -    RBFOX2  protein_coding\n",
              "1  ENSG00000100336.18      -     APOL4  protein_coding\n",
              "2  ENSG00000100342.22      +     APOL1  protein_coding\n",
              "3  ENSG00000100345.23      -      MYH9  protein_coding\n",
              "4  ENSG00000100348.10      -      TXN2  protein_coding"
            ]
          },
          "metadata": {},
          "execution_count": 69
        }
      ],
      "source": [
        "variant_scores.obs.head()"
      ]
    },
    {
      "cell_type": "markdown",
      "metadata": {
        "id": "p6mVhremkYVu"
      },
      "source": [
        "Note that if you are using a variant scorer that is not gene-specific (i.e., a\n",
        "`variant_scorers.CenterMaskScorer`), then `variant_scores.X` would have shape\n",
        "`(1, 667)` and there will be no gene metadata available since there is no\n",
        "concept of genes in this scenario.\n",
        "\n",
        "The description of each track is accessed using `.var` (this is the same\n",
        "dataframe as the output metadata, but is included alongside the variant scores\n",
        "for convenience):"
      ]
    },
    {
      "cell_type": "code",
      "execution_count": null,
      "metadata": {
        "colab": {
          "height": 930
        },
        "id": "J_VRdJMakYVu",
        "outputId": "e64dc7a3-6986-4ec9-b9a5-054a5a39e2b8"
      },
      "outputs": [
        {
          "output_type": "execute_result",
          "data": {
            "application/vnd.google.colaboratory.intrinsic+json": {
              "summary": "{\n  \"name\": \"variant_scores\",\n  \"rows\": 667,\n  \"fields\": [\n    {\n      \"column\": \"name\",\n      \"properties\": {\n        \"dtype\": \"string\",\n        \"num_unique_values\": 371,\n        \"samples\": [\n          \"UBERON:0001873 gtex Brain_Caudate_basal_ganglia polyA plus RNA-seq\",\n          \"CL:0000792 total RNA-seq\",\n          \"CL:0000223 polyA plus RNA-seq\"\n        ],\n        \"semantic_type\": \"\",\n        \"description\": \"\"\n      }\n    },\n    {\n      \"column\": \"strand\",\n      \"properties\": {\n        \"dtype\": \"category\",\n        \"num_unique_values\": 3,\n        \"samples\": [\n          \"+\",\n          \"-\",\n          \".\"\n        ],\n        \"semantic_type\": \"\",\n        \"description\": \"\"\n      }\n    },\n    {\n      \"column\": \"Assay title\",\n      \"properties\": {\n        \"dtype\": \"category\",\n        \"num_unique_values\": 2,\n        \"samples\": [\n          \"total RNA-seq\",\n          \"polyA plus RNA-seq\"\n        ],\n        \"semantic_type\": \"\",\n        \"description\": \"\"\n      }\n    },\n    {\n      \"column\": \"ontology_curie\",\n      \"properties\": {\n        \"dtype\": \"category\",\n        \"num_unique_values\": 285,\n        \"samples\": [\n          \"CL:0000182\",\n          \"NTR:0000524\"\n        ],\n        \"semantic_type\": \"\",\n        \"description\": \"\"\n      }\n    },\n    {\n      \"column\": \"biosample_name\",\n      \"properties\": {\n        \"dtype\": \"category\",\n        \"num_unique_values\": 285,\n        \"samples\": [\n          \"hepatocyte\",\n          \"fibroblast of skin of scalp\"\n        ],\n        \"semantic_type\": \"\",\n        \"description\": \"\"\n      }\n    },\n    {\n      \"column\": \"biosample_type\",\n      \"properties\": {\n        \"dtype\": \"category\",\n        \"num_unique_values\": 4,\n        \"samples\": [\n          \"primary_cell\",\n          \"tissue\"\n        ],\n        \"semantic_type\": \"\",\n        \"description\": \"\"\n      }\n    },\n    {\n      \"column\": \"biosample_life_stage\",\n      \"properties\": {\n        \"dtype\": \"category\",\n        \"num_unique_values\": 10,\n        \"samples\": [\n          \"adult,unknown\",\n          \"adult\"\n        ],\n        \"semantic_type\": \"\",\n        \"description\": \"\"\n      }\n    },\n    {\n      \"column\": \"gtex_tissue\",\n      \"properties\": {\n        \"dtype\": \"category\",\n        \"num_unique_values\": 55,\n        \"samples\": [\n          \"Spleen\",\n          \"Testis\"\n        ],\n        \"semantic_type\": \"\",\n        \"description\": \"\"\n      }\n    },\n    {\n      \"column\": \"data_source\",\n      \"properties\": {\n        \"dtype\": \"category\",\n        \"num_unique_values\": 2,\n        \"samples\": [\n          \"gtex\",\n          \"encode\"\n        ],\n        \"semantic_type\": \"\",\n        \"description\": \"\"\n      }\n    },\n    {\n      \"column\": \"endedness\",\n      \"properties\": {\n        \"dtype\": \"category\",\n        \"num_unique_values\": 2,\n        \"samples\": [\n          \"single\",\n          \"paired\"\n        ],\n        \"semantic_type\": \"\",\n        \"description\": \"\"\n      }\n    },\n    {\n      \"column\": \"genetically_modified\",\n      \"properties\": {\n        \"dtype\": \"boolean\",\n        \"num_unique_values\": 1,\n        \"samples\": [\n          false\n        ],\n        \"semantic_type\": \"\",\n        \"description\": \"\"\n      }\n    },\n    {\n      \"column\": \"nonzero_mean\",\n      \"properties\": {\n        \"dtype\": \"number\",\n        \"std\": 0.16499713233184873,\n        \"min\": 0.03440511226654053,\n        \"max\": 1.3723630905151367,\n        \"num_unique_values\": 396,\n        \"samples\": [\n          0.189997598528862\n        ],\n        \"semantic_type\": \"\",\n        \"description\": \"\"\n      }\n    }\n  ]\n}",
              "type": "dataframe"
            },
            "text/html": [
              "\n",
              "  <div id=\"df-d2d3bb11-e9d8-4d6a-9912-4efbe7119482\" class=\"colab-df-container\">\n",
              "    <div>\n",
              "<style scoped>\n",
              "    .dataframe tbody tr th:only-of-type {\n",
              "        vertical-align: middle;\n",
              "    }\n",
              "\n",
              "    .dataframe tbody tr th {\n",
              "        vertical-align: top;\n",
              "    }\n",
              "\n",
              "    .dataframe thead th {\n",
              "        text-align: right;\n",
              "    }\n",
              "</style>\n",
              "<table border=\"1\" class=\"dataframe\">\n",
              "  <thead>\n",
              "    <tr style=\"text-align: right;\">\n",
              "      <th></th>\n",
              "      <th>name</th>\n",
              "      <th>strand</th>\n",
              "      <th>Assay title</th>\n",
              "      <th>ontology_curie</th>\n",
              "      <th>biosample_name</th>\n",
              "      <th>biosample_type</th>\n",
              "      <th>biosample_life_stage</th>\n",
              "      <th>gtex_tissue</th>\n",
              "      <th>data_source</th>\n",
              "      <th>endedness</th>\n",
              "      <th>genetically_modified</th>\n",
              "      <th>nonzero_mean</th>\n",
              "    </tr>\n",
              "  </thead>\n",
              "  <tbody>\n",
              "    <tr>\n",
              "      <th>0</th>\n",
              "      <td>CL:0000047 polyA plus RNA-seq</td>\n",
              "      <td>+</td>\n",
              "      <td>polyA plus RNA-seq</td>\n",
              "      <td>CL:0000047</td>\n",
              "      <td>neuronal stem cell</td>\n",
              "      <td>in_vitro_differentiated_cells</td>\n",
              "      <td>embryonic</td>\n",
              "      <td></td>\n",
              "      <td>encode</td>\n",
              "      <td>paired</td>\n",
              "      <td>False</td>\n",
              "      <td>0.143617</td>\n",
              "    </tr>\n",
              "    <tr>\n",
              "      <th>1</th>\n",
              "      <td>CL:0000062 total RNA-seq</td>\n",
              "      <td>+</td>\n",
              "      <td>total RNA-seq</td>\n",
              "      <td>CL:0000062</td>\n",
              "      <td>osteoblast</td>\n",
              "      <td>primary_cell</td>\n",
              "      <td>adult</td>\n",
              "      <td></td>\n",
              "      <td>encode</td>\n",
              "      <td>paired</td>\n",
              "      <td>False</td>\n",
              "      <td>0.094144</td>\n",
              "    </tr>\n",
              "    <tr>\n",
              "      <th>2</th>\n",
              "      <td>CL:0000084 polyA plus RNA-seq</td>\n",
              "      <td>+</td>\n",
              "      <td>polyA plus RNA-seq</td>\n",
              "      <td>CL:0000084</td>\n",
              "      <td>T-cell</td>\n",
              "      <td>primary_cell</td>\n",
              "      <td>adult</td>\n",
              "      <td></td>\n",
              "      <td>encode</td>\n",
              "      <td>paired</td>\n",
              "      <td>False</td>\n",
              "      <td>0.124296</td>\n",
              "    </tr>\n",
              "    <tr>\n",
              "      <th>3</th>\n",
              "      <td>CL:0000084 total RNA-seq</td>\n",
              "      <td>+</td>\n",
              "      <td>total RNA-seq</td>\n",
              "      <td>CL:0000084</td>\n",
              "      <td>T-cell</td>\n",
              "      <td>primary_cell</td>\n",
              "      <td>adult</td>\n",
              "      <td></td>\n",
              "      <td>encode</td>\n",
              "      <td>single</td>\n",
              "      <td>False</td>\n",
              "      <td>0.100934</td>\n",
              "    </tr>\n",
              "    <tr>\n",
              "      <th>4</th>\n",
              "      <td>CL:0000115 total RNA-seq</td>\n",
              "      <td>+</td>\n",
              "      <td>total RNA-seq</td>\n",
              "      <td>CL:0000115</td>\n",
              "      <td>endothelial cell</td>\n",
              "      <td>in_vitro_differentiated_cells</td>\n",
              "      <td>adult</td>\n",
              "      <td></td>\n",
              "      <td>encode</td>\n",
              "      <td>single</td>\n",
              "      <td>False</td>\n",
              "      <td>0.135553</td>\n",
              "    </tr>\n",
              "    <tr>\n",
              "      <th>...</th>\n",
              "      <td>...</td>\n",
              "      <td>...</td>\n",
              "      <td>...</td>\n",
              "      <td>...</td>\n",
              "      <td>...</td>\n",
              "      <td>...</td>\n",
              "      <td>...</td>\n",
              "      <td>...</td>\n",
              "      <td>...</td>\n",
              "      <td>...</td>\n",
              "      <td>...</td>\n",
              "      <td>...</td>\n",
              "    </tr>\n",
              "    <tr>\n",
              "      <th>662</th>\n",
              "      <td>UBERON:0018115 polyA plus RNA-seq</td>\n",
              "      <td>.</td>\n",
              "      <td>polyA plus RNA-seq</td>\n",
              "      <td>UBERON:0018115</td>\n",
              "      <td>left renal pelvis</td>\n",
              "      <td>tissue</td>\n",
              "      <td>embryonic</td>\n",
              "      <td></td>\n",
              "      <td>encode</td>\n",
              "      <td>single</td>\n",
              "      <td>False</td>\n",
              "      <td>0.268222</td>\n",
              "    </tr>\n",
              "    <tr>\n",
              "      <th>663</th>\n",
              "      <td>UBERON:0018116 polyA plus RNA-seq</td>\n",
              "      <td>.</td>\n",
              "      <td>polyA plus RNA-seq</td>\n",
              "      <td>UBERON:0018116</td>\n",
              "      <td>right renal pelvis</td>\n",
              "      <td>tissue</td>\n",
              "      <td>embryonic</td>\n",
              "      <td></td>\n",
              "      <td>encode</td>\n",
              "      <td>single</td>\n",
              "      <td>False</td>\n",
              "      <td>0.258522</td>\n",
              "    </tr>\n",
              "    <tr>\n",
              "      <th>664</th>\n",
              "      <td>UBERON:0018117 polyA plus RNA-seq</td>\n",
              "      <td>.</td>\n",
              "      <td>polyA plus RNA-seq</td>\n",
              "      <td>UBERON:0018117</td>\n",
              "      <td>left renal cortex interstitium</td>\n",
              "      <td>tissue</td>\n",
              "      <td>embryonic</td>\n",
              "      <td></td>\n",
              "      <td>encode</td>\n",
              "      <td>single</td>\n",
              "      <td>False</td>\n",
              "      <td>0.215190</td>\n",
              "    </tr>\n",
              "    <tr>\n",
              "      <th>665</th>\n",
              "      <td>UBERON:0018118 polyA plus RNA-seq</td>\n",
              "      <td>.</td>\n",
              "      <td>polyA plus RNA-seq</td>\n",
              "      <td>UBERON:0018118</td>\n",
              "      <td>right renal cortex interstitium</td>\n",
              "      <td>tissue</td>\n",
              "      <td>embryonic</td>\n",
              "      <td></td>\n",
              "      <td>encode</td>\n",
              "      <td>single</td>\n",
              "      <td>False</td>\n",
              "      <td>0.365676</td>\n",
              "    </tr>\n",
              "    <tr>\n",
              "      <th>666</th>\n",
              "      <td>UBERON:0036149 gtex Skin_Not_Sun_Exposed_Supra...</td>\n",
              "      <td>.</td>\n",
              "      <td>polyA plus RNA-seq</td>\n",
              "      <td>UBERON:0036149</td>\n",
              "      <td>suprapubic skin</td>\n",
              "      <td>tissue</td>\n",
              "      <td>adult</td>\n",
              "      <td>Skin_Not_Sun_Exposed_Suprapubic</td>\n",
              "      <td>gtex</td>\n",
              "      <td>paired</td>\n",
              "      <td>False</td>\n",
              "      <td>0.045404</td>\n",
              "    </tr>\n",
              "  </tbody>\n",
              "</table>\n",
              "<p>667 rows × 12 columns</p>\n",
              "</div>\n",
              "    <div class=\"colab-df-buttons\">\n",
              "\n",
              "  <div class=\"colab-df-container\">\n",
              "    <button class=\"colab-df-convert\" onclick=\"convertToInteractive('df-d2d3bb11-e9d8-4d6a-9912-4efbe7119482')\"\n",
              "            title=\"Convert this dataframe to an interactive table.\"\n",
              "            style=\"display:none;\">\n",
              "\n",
              "  <svg xmlns=\"http://www.w3.org/2000/svg\" height=\"24px\" viewBox=\"0 -960 960 960\">\n",
              "    <path d=\"M120-120v-720h720v720H120Zm60-500h600v-160H180v160Zm220 220h160v-160H400v160Zm0 220h160v-160H400v160ZM180-400h160v-160H180v160Zm440 0h160v-160H620v160ZM180-180h160v-160H180v160Zm440 0h160v-160H620v160Z\"/>\n",
              "  </svg>\n",
              "    </button>\n",
              "\n",
              "  <style>\n",
              "    .colab-df-container {\n",
              "      display:flex;\n",
              "      gap: 12px;\n",
              "    }\n",
              "\n",
              "    .colab-df-convert {\n",
              "      background-color: #E8F0FE;\n",
              "      border: none;\n",
              "      border-radius: 50%;\n",
              "      cursor: pointer;\n",
              "      display: none;\n",
              "      fill: #1967D2;\n",
              "      height: 32px;\n",
              "      padding: 0 0 0 0;\n",
              "      width: 32px;\n",
              "    }\n",
              "\n",
              "    .colab-df-convert:hover {\n",
              "      background-color: #E2EBFA;\n",
              "      box-shadow: 0px 1px 2px rgba(60, 64, 67, 0.3), 0px 1px 3px 1px rgba(60, 64, 67, 0.15);\n",
              "      fill: #174EA6;\n",
              "    }\n",
              "\n",
              "    .colab-df-buttons div {\n",
              "      margin-bottom: 4px;\n",
              "    }\n",
              "\n",
              "    [theme=dark] .colab-df-convert {\n",
              "      background-color: #3B4455;\n",
              "      fill: #D2E3FC;\n",
              "    }\n",
              "\n",
              "    [theme=dark] .colab-df-convert:hover {\n",
              "      background-color: #434B5C;\n",
              "      box-shadow: 0px 1px 3px 1px rgba(0, 0, 0, 0.15);\n",
              "      filter: drop-shadow(0px 1px 2px rgba(0, 0, 0, 0.3));\n",
              "      fill: #FFFFFF;\n",
              "    }\n",
              "  </style>\n",
              "\n",
              "    <script>\n",
              "      const buttonEl =\n",
              "        document.querySelector('#df-d2d3bb11-e9d8-4d6a-9912-4efbe7119482 button.colab-df-convert');\n",
              "      buttonEl.style.display =\n",
              "        google.colab.kernel.accessAllowed ? 'block' : 'none';\n",
              "\n",
              "      async function convertToInteractive(key) {\n",
              "        const element = document.querySelector('#df-d2d3bb11-e9d8-4d6a-9912-4efbe7119482');\n",
              "        const dataTable =\n",
              "          await google.colab.kernel.invokeFunction('convertToInteractive',\n",
              "                                                    [key], {});\n",
              "        if (!dataTable) return;\n",
              "\n",
              "        const docLinkHtml = 'Like what you see? Visit the ' +\n",
              "          '<a target=\"_blank\" href=https://colab.research.google.com/notebooks/data_table.ipynb>data table notebook</a>'\n",
              "          + ' to learn more about interactive tables.';\n",
              "        element.innerHTML = '';\n",
              "        dataTable['output_type'] = 'display_data';\n",
              "        await google.colab.output.renderOutput(dataTable, element);\n",
              "        const docLink = document.createElement('div');\n",
              "        docLink.innerHTML = docLinkHtml;\n",
              "        element.appendChild(docLink);\n",
              "      }\n",
              "    </script>\n",
              "  </div>\n",
              "\n",
              "\n",
              "    <div id=\"df-d634d6ee-1d0d-4f16-9d8c-23c84c03242a\">\n",
              "      <button class=\"colab-df-quickchart\" onclick=\"quickchart('df-d634d6ee-1d0d-4f16-9d8c-23c84c03242a')\"\n",
              "                title=\"Suggest charts\"\n",
              "                style=\"display:none;\">\n",
              "\n",
              "<svg xmlns=\"http://www.w3.org/2000/svg\" height=\"24px\"viewBox=\"0 0 24 24\"\n",
              "     width=\"24px\">\n",
              "    <g>\n",
              "        <path d=\"M19 3H5c-1.1 0-2 .9-2 2v14c0 1.1.9 2 2 2h14c1.1 0 2-.9 2-2V5c0-1.1-.9-2-2-2zM9 17H7v-7h2v7zm4 0h-2V7h2v10zm4 0h-2v-4h2v4z\"/>\n",
              "    </g>\n",
              "</svg>\n",
              "      </button>\n",
              "\n",
              "<style>\n",
              "  .colab-df-quickchart {\n",
              "      --bg-color: #E8F0FE;\n",
              "      --fill-color: #1967D2;\n",
              "      --hover-bg-color: #E2EBFA;\n",
              "      --hover-fill-color: #174EA6;\n",
              "      --disabled-fill-color: #AAA;\n",
              "      --disabled-bg-color: #DDD;\n",
              "  }\n",
              "\n",
              "  [theme=dark] .colab-df-quickchart {\n",
              "      --bg-color: #3B4455;\n",
              "      --fill-color: #D2E3FC;\n",
              "      --hover-bg-color: #434B5C;\n",
              "      --hover-fill-color: #FFFFFF;\n",
              "      --disabled-bg-color: #3B4455;\n",
              "      --disabled-fill-color: #666;\n",
              "  }\n",
              "\n",
              "  .colab-df-quickchart {\n",
              "    background-color: var(--bg-color);\n",
              "    border: none;\n",
              "    border-radius: 50%;\n",
              "    cursor: pointer;\n",
              "    display: none;\n",
              "    fill: var(--fill-color);\n",
              "    height: 32px;\n",
              "    padding: 0;\n",
              "    width: 32px;\n",
              "  }\n",
              "\n",
              "  .colab-df-quickchart:hover {\n",
              "    background-color: var(--hover-bg-color);\n",
              "    box-shadow: 0 1px 2px rgba(60, 64, 67, 0.3), 0 1px 3px 1px rgba(60, 64, 67, 0.15);\n",
              "    fill: var(--button-hover-fill-color);\n",
              "  }\n",
              "\n",
              "  .colab-df-quickchart-complete:disabled,\n",
              "  .colab-df-quickchart-complete:disabled:hover {\n",
              "    background-color: var(--disabled-bg-color);\n",
              "    fill: var(--disabled-fill-color);\n",
              "    box-shadow: none;\n",
              "  }\n",
              "\n",
              "  .colab-df-spinner {\n",
              "    border: 2px solid var(--fill-color);\n",
              "    border-color: transparent;\n",
              "    border-bottom-color: var(--fill-color);\n",
              "    animation:\n",
              "      spin 1s steps(1) infinite;\n",
              "  }\n",
              "\n",
              "  @keyframes spin {\n",
              "    0% {\n",
              "      border-color: transparent;\n",
              "      border-bottom-color: var(--fill-color);\n",
              "      border-left-color: var(--fill-color);\n",
              "    }\n",
              "    20% {\n",
              "      border-color: transparent;\n",
              "      border-left-color: var(--fill-color);\n",
              "      border-top-color: var(--fill-color);\n",
              "    }\n",
              "    30% {\n",
              "      border-color: transparent;\n",
              "      border-left-color: var(--fill-color);\n",
              "      border-top-color: var(--fill-color);\n",
              "      border-right-color: var(--fill-color);\n",
              "    }\n",
              "    40% {\n",
              "      border-color: transparent;\n",
              "      border-right-color: var(--fill-color);\n",
              "      border-top-color: var(--fill-color);\n",
              "    }\n",
              "    60% {\n",
              "      border-color: transparent;\n",
              "      border-right-color: var(--fill-color);\n",
              "    }\n",
              "    80% {\n",
              "      border-color: transparent;\n",
              "      border-right-color: var(--fill-color);\n",
              "      border-bottom-color: var(--fill-color);\n",
              "    }\n",
              "    90% {\n",
              "      border-color: transparent;\n",
              "      border-bottom-color: var(--fill-color);\n",
              "    }\n",
              "  }\n",
              "</style>\n",
              "\n",
              "      <script>\n",
              "        async function quickchart(key) {\n",
              "          const quickchartButtonEl =\n",
              "            document.querySelector('#' + key + ' button');\n",
              "          quickchartButtonEl.disabled = true;  // To prevent multiple clicks.\n",
              "          quickchartButtonEl.classList.add('colab-df-spinner');\n",
              "          try {\n",
              "            const charts = await google.colab.kernel.invokeFunction(\n",
              "                'suggestCharts', [key], {});\n",
              "          } catch (error) {\n",
              "            console.error('Error during call to suggestCharts:', error);\n",
              "          }\n",
              "          quickchartButtonEl.classList.remove('colab-df-spinner');\n",
              "          quickchartButtonEl.classList.add('colab-df-quickchart-complete');\n",
              "        }\n",
              "        (() => {\n",
              "          let quickchartButtonEl =\n",
              "            document.querySelector('#df-d634d6ee-1d0d-4f16-9d8c-23c84c03242a button');\n",
              "          quickchartButtonEl.style.display =\n",
              "            google.colab.kernel.accessAllowed ? 'block' : 'none';\n",
              "        })();\n",
              "      </script>\n",
              "    </div>\n",
              "    </div>\n",
              "  </div>\n"
            ],
            "text/plain": [
              "                                                  name  ... nonzero_mean\n",
              "0                        CL:0000047 polyA plus RNA-seq  ...     0.143617\n",
              "1                             CL:0000062 total RNA-seq  ...     0.094144\n",
              "2                        CL:0000084 polyA plus RNA-seq  ...     0.124296\n",
              "3                             CL:0000084 total RNA-seq  ...     0.100934\n",
              "4                             CL:0000115 total RNA-seq  ...     0.135553\n",
              "..                                                 ...  ...          ...\n",
              "662                  UBERON:0018115 polyA plus RNA-seq  ...     0.268222\n",
              "663                  UBERON:0018116 polyA plus RNA-seq  ...     0.258522\n",
              "664                  UBERON:0018117 polyA plus RNA-seq  ...     0.215190\n",
              "665                  UBERON:0018118 polyA plus RNA-seq  ...     0.365676\n",
              "666  UBERON:0036149 gtex Skin_Not_Sun_Exposed_Supra...  ...     0.045404\n",
              "\n",
              "[667 rows x 12 columns]"
            ]
          },
          "metadata": {},
          "execution_count": 70
        }
      ],
      "source": [
        "variant_scores.var"
      ]
    },
    {
      "cell_type": "markdown",
      "metadata": {
        "id": "rrbvEe4xkYVu"
      },
      "source": [
        "Some handy additional metadata can be found in `.uns`:"
      ]
    },
    {
      "cell_type": "code",
      "execution_count": null,
      "metadata": {
        "id": "n3GGvosdkYVu",
        "outputId": "5d98daea-2c16-4d90-9393-95d44cfbb33b"
      },
      "outputs": [
        {
          "output_type": "stream",
          "name": "stdout",
          "text": [
            "Interval: chr22:35677410-36725986:.\n",
            "Variant: chr22:36201698:A>C\n",
            "Variant scorer: GeneMaskLFCScorer(requested_output=RNA_SEQ)\n"
          ]
        }
      ],
      "source": [
        "print(f'Interval: {variant_scores.uns[\"interval\"]}')\n",
        "print(f'Variant: {variant_scores.uns[\"variant\"]}')\n",
        "print(f'Variant scorer: {variant_scores.uns[\"variant_scorer\"]}')"
      ]
    },
    {
      "cell_type": "markdown",
      "metadata": {
        "id": "B0WK-6IpkYVu"
      },
      "source": [
        "We recommend interacting with variant scores by flattening `AnnData` objects\n",
        "using `tidy_scores`, which produces a dataframe with each row being a single\n",
        "score for each combination of (variant, gene, scorer, ontology). It optionally\n",
        "excludes stranded tracks which do not match the gene’s strand for gene-specific\n",
        "scorer.\n",
        "\n",
        "The `raw_score` column contains the same values as stored in `variant_scores.X`.\n",
        "The `quantile_score` column is the rank of the `raw_score` in the distribution\n",
        "of scores for a background set of common variants, represented as a quantile\n",
        "probability. This allows for direct comparison across variant scoring strategies\n",
        "that yield scores on different scales. See\n",
        "[FAQs](https://www.alphagenomedocs.com/faqs.html#what-is-the-difference-between-a-quantile-score-and-raw-score)\n",
        "for further details."
      ]
    },
    {
      "cell_type": "code",
      "execution_count": null,
      "metadata": {
        "colab": {
          "height": 930
        },
        "id": "cVG5ApfkkYVu",
        "outputId": "242af8a0-5539-4a88-a883-116917bc3b0a"
      },
      "outputs": [
        {
          "output_type": "execute_result",
          "data": {
            "application/vnd.google.colaboratory.intrinsic+json": {
              "repr_error": "Out of range float values are not JSON compliant: nan",
              "type": "dataframe"
            },
            "text/html": [
              "\n",
              "  <div id=\"df-70e6d48e-c7fa-4733-9244-6bdae5b04dc5\" class=\"colab-df-container\">\n",
              "    <div>\n",
              "<style scoped>\n",
              "    .dataframe tbody tr th:only-of-type {\n",
              "        vertical-align: middle;\n",
              "    }\n",
              "\n",
              "    .dataframe tbody tr th {\n",
              "        vertical-align: top;\n",
              "    }\n",
              "\n",
              "    .dataframe thead th {\n",
              "        text-align: right;\n",
              "    }\n",
              "</style>\n",
              "<table border=\"1\" class=\"dataframe\">\n",
              "  <thead>\n",
              "    <tr style=\"text-align: right;\">\n",
              "      <th></th>\n",
              "      <th>variant_id</th>\n",
              "      <th>scored_interval</th>\n",
              "      <th>gene_id</th>\n",
              "      <th>gene_name</th>\n",
              "      <th>gene_type</th>\n",
              "      <th>gene_strand</th>\n",
              "      <th>junction_Start</th>\n",
              "      <th>junction_End</th>\n",
              "      <th>output_type</th>\n",
              "      <th>variant_scorer</th>\n",
              "      <th>track_name</th>\n",
              "      <th>track_strand</th>\n",
              "      <th>Assay title</th>\n",
              "      <th>ontology_curie</th>\n",
              "      <th>biosample_name</th>\n",
              "      <th>biosample_type</th>\n",
              "      <th>gtex_tissue</th>\n",
              "      <th>raw_score</th>\n",
              "      <th>quantile_score</th>\n",
              "    </tr>\n",
              "  </thead>\n",
              "  <tbody>\n",
              "    <tr>\n",
              "      <th>0</th>\n",
              "      <td>chr22:36201698:A&gt;C</td>\n",
              "      <td>chr22:35677410-36725986:.</td>\n",
              "      <td>ENSG00000100320</td>\n",
              "      <td>RBFOX2</td>\n",
              "      <td>protein_coding</td>\n",
              "      <td>-</td>\n",
              "      <td>None</td>\n",
              "      <td>None</td>\n",
              "      <td>RNA_SEQ</td>\n",
              "      <td>GeneMaskLFCScorer(requested_output=RNA_SEQ)</td>\n",
              "      <td>CL:0000047 polyA plus RNA-seq</td>\n",
              "      <td>-</td>\n",
              "      <td>polyA plus RNA-seq</td>\n",
              "      <td>CL:0000047</td>\n",
              "      <td>neuronal stem cell</td>\n",
              "      <td>in_vitro_differentiated_cells</td>\n",
              "      <td></td>\n",
              "      <td>0.000319</td>\n",
              "      <td>0.373276</td>\n",
              "    </tr>\n",
              "    <tr>\n",
              "      <th>1</th>\n",
              "      <td>chr22:36201698:A&gt;C</td>\n",
              "      <td>chr22:35677410-36725986:.</td>\n",
              "      <td>ENSG00000100320</td>\n",
              "      <td>RBFOX2</td>\n",
              "      <td>protein_coding</td>\n",
              "      <td>-</td>\n",
              "      <td>None</td>\n",
              "      <td>None</td>\n",
              "      <td>RNA_SEQ</td>\n",
              "      <td>GeneMaskLFCScorer(requested_output=RNA_SEQ)</td>\n",
              "      <td>CL:0000062 total RNA-seq</td>\n",
              "      <td>-</td>\n",
              "      <td>total RNA-seq</td>\n",
              "      <td>CL:0000062</td>\n",
              "      <td>osteoblast</td>\n",
              "      <td>primary_cell</td>\n",
              "      <td></td>\n",
              "      <td>0.000261</td>\n",
              "      <td>0.431257</td>\n",
              "    </tr>\n",
              "    <tr>\n",
              "      <th>2</th>\n",
              "      <td>chr22:36201698:A&gt;C</td>\n",
              "      <td>chr22:35677410-36725986:.</td>\n",
              "      <td>ENSG00000100320</td>\n",
              "      <td>RBFOX2</td>\n",
              "      <td>protein_coding</td>\n",
              "      <td>-</td>\n",
              "      <td>None</td>\n",
              "      <td>None</td>\n",
              "      <td>RNA_SEQ</td>\n",
              "      <td>GeneMaskLFCScorer(requested_output=RNA_SEQ)</td>\n",
              "      <td>CL:0000084 polyA plus RNA-seq</td>\n",
              "      <td>-</td>\n",
              "      <td>polyA plus RNA-seq</td>\n",
              "      <td>CL:0000084</td>\n",
              "      <td>T-cell</td>\n",
              "      <td>primary_cell</td>\n",
              "      <td></td>\n",
              "      <td>-0.003533</td>\n",
              "      <td>-0.930376</td>\n",
              "    </tr>\n",
              "    <tr>\n",
              "      <th>3</th>\n",
              "      <td>chr22:36201698:A&gt;C</td>\n",
              "      <td>chr22:35677410-36725986:.</td>\n",
              "      <td>ENSG00000100320</td>\n",
              "      <td>RBFOX2</td>\n",
              "      <td>protein_coding</td>\n",
              "      <td>-</td>\n",
              "      <td>None</td>\n",
              "      <td>None</td>\n",
              "      <td>RNA_SEQ</td>\n",
              "      <td>GeneMaskLFCScorer(requested_output=RNA_SEQ)</td>\n",
              "      <td>CL:0000084 total RNA-seq</td>\n",
              "      <td>-</td>\n",
              "      <td>total RNA-seq</td>\n",
              "      <td>CL:0000084</td>\n",
              "      <td>T-cell</td>\n",
              "      <td>primary_cell</td>\n",
              "      <td></td>\n",
              "      <td>-0.003956</td>\n",
              "      <td>-0.947949</td>\n",
              "    </tr>\n",
              "    <tr>\n",
              "      <th>4</th>\n",
              "      <td>chr22:36201698:A&gt;C</td>\n",
              "      <td>chr22:35677410-36725986:.</td>\n",
              "      <td>ENSG00000100320</td>\n",
              "      <td>RBFOX2</td>\n",
              "      <td>protein_coding</td>\n",
              "      <td>-</td>\n",
              "      <td>None</td>\n",
              "      <td>None</td>\n",
              "      <td>RNA_SEQ</td>\n",
              "      <td>GeneMaskLFCScorer(requested_output=RNA_SEQ)</td>\n",
              "      <td>CL:0000115 total RNA-seq</td>\n",
              "      <td>-</td>\n",
              "      <td>total RNA-seq</td>\n",
              "      <td>CL:0000115</td>\n",
              "      <td>endothelial cell</td>\n",
              "      <td>in_vitro_differentiated_cells</td>\n",
              "      <td></td>\n",
              "      <td>0.000014</td>\n",
              "      <td>0.080577</td>\n",
              "    </tr>\n",
              "    <tr>\n",
              "      <th>...</th>\n",
              "      <td>...</td>\n",
              "      <td>...</td>\n",
              "      <td>...</td>\n",
              "      <td>...</td>\n",
              "      <td>...</td>\n",
              "      <td>...</td>\n",
              "      <td>...</td>\n",
              "      <td>...</td>\n",
              "      <td>...</td>\n",
              "      <td>...</td>\n",
              "      <td>...</td>\n",
              "      <td>...</td>\n",
              "      <td>...</td>\n",
              "      <td>...</td>\n",
              "      <td>...</td>\n",
              "      <td>...</td>\n",
              "      <td>...</td>\n",
              "      <td>...</td>\n",
              "      <td>...</td>\n",
              "    </tr>\n",
              "    <tr>\n",
              "      <th>14647</th>\n",
              "      <td>chr22:36201698:A&gt;C</td>\n",
              "      <td>chr22:35677410-36725986:.</td>\n",
              "      <td>ENSG00000293594</td>\n",
              "      <td>ENSG00000293594</td>\n",
              "      <td>processed_pseudogene</td>\n",
              "      <td>-</td>\n",
              "      <td>None</td>\n",
              "      <td>None</td>\n",
              "      <td>RNA_SEQ</td>\n",
              "      <td>GeneMaskLFCScorer(requested_output=RNA_SEQ)</td>\n",
              "      <td>UBERON:0018115 polyA plus RNA-seq</td>\n",
              "      <td>.</td>\n",
              "      <td>polyA plus RNA-seq</td>\n",
              "      <td>UBERON:0018115</td>\n",
              "      <td>left renal pelvis</td>\n",
              "      <td>tissue</td>\n",
              "      <td></td>\n",
              "      <td>-0.011238</td>\n",
              "      <td>-0.997684</td>\n",
              "    </tr>\n",
              "    <tr>\n",
              "      <th>14648</th>\n",
              "      <td>chr22:36201698:A&gt;C</td>\n",
              "      <td>chr22:35677410-36725986:.</td>\n",
              "      <td>ENSG00000293594</td>\n",
              "      <td>ENSG00000293594</td>\n",
              "      <td>processed_pseudogene</td>\n",
              "      <td>-</td>\n",
              "      <td>None</td>\n",
              "      <td>None</td>\n",
              "      <td>RNA_SEQ</td>\n",
              "      <td>GeneMaskLFCScorer(requested_output=RNA_SEQ)</td>\n",
              "      <td>UBERON:0018116 polyA plus RNA-seq</td>\n",
              "      <td>.</td>\n",
              "      <td>polyA plus RNA-seq</td>\n",
              "      <td>UBERON:0018116</td>\n",
              "      <td>right renal pelvis</td>\n",
              "      <td>tissue</td>\n",
              "      <td></td>\n",
              "      <td>-0.008828</td>\n",
              "      <td>-0.995687</td>\n",
              "    </tr>\n",
              "    <tr>\n",
              "      <th>14649</th>\n",
              "      <td>chr22:36201698:A&gt;C</td>\n",
              "      <td>chr22:35677410-36725986:.</td>\n",
              "      <td>ENSG00000293594</td>\n",
              "      <td>ENSG00000293594</td>\n",
              "      <td>processed_pseudogene</td>\n",
              "      <td>-</td>\n",
              "      <td>None</td>\n",
              "      <td>None</td>\n",
              "      <td>RNA_SEQ</td>\n",
              "      <td>GeneMaskLFCScorer(requested_output=RNA_SEQ)</td>\n",
              "      <td>UBERON:0018117 polyA plus RNA-seq</td>\n",
              "      <td>.</td>\n",
              "      <td>polyA plus RNA-seq</td>\n",
              "      <td>UBERON:0018117</td>\n",
              "      <td>left renal cortex interstitium</td>\n",
              "      <td>tissue</td>\n",
              "      <td></td>\n",
              "      <td>-0.009835</td>\n",
              "      <td>-0.996803</td>\n",
              "    </tr>\n",
              "    <tr>\n",
              "      <th>14650</th>\n",
              "      <td>chr22:36201698:A&gt;C</td>\n",
              "      <td>chr22:35677410-36725986:.</td>\n",
              "      <td>ENSG00000293594</td>\n",
              "      <td>ENSG00000293594</td>\n",
              "      <td>processed_pseudogene</td>\n",
              "      <td>-</td>\n",
              "      <td>None</td>\n",
              "      <td>None</td>\n",
              "      <td>RNA_SEQ</td>\n",
              "      <td>GeneMaskLFCScorer(requested_output=RNA_SEQ)</td>\n",
              "      <td>UBERON:0018118 polyA plus RNA-seq</td>\n",
              "      <td>.</td>\n",
              "      <td>polyA plus RNA-seq</td>\n",
              "      <td>UBERON:0018118</td>\n",
              "      <td>right renal cortex interstitium</td>\n",
              "      <td>tissue</td>\n",
              "      <td></td>\n",
              "      <td>-0.008311</td>\n",
              "      <td>-0.994315</td>\n",
              "    </tr>\n",
              "    <tr>\n",
              "      <th>14651</th>\n",
              "      <td>chr22:36201698:A&gt;C</td>\n",
              "      <td>chr22:35677410-36725986:.</td>\n",
              "      <td>ENSG00000293594</td>\n",
              "      <td>ENSG00000293594</td>\n",
              "      <td>processed_pseudogene</td>\n",
              "      <td>-</td>\n",
              "      <td>None</td>\n",
              "      <td>None</td>\n",
              "      <td>RNA_SEQ</td>\n",
              "      <td>GeneMaskLFCScorer(requested_output=RNA_SEQ)</td>\n",
              "      <td>UBERON:0036149 gtex Skin_Not_Sun_Exposed_Supra...</td>\n",
              "      <td>.</td>\n",
              "      <td>polyA plus RNA-seq</td>\n",
              "      <td>UBERON:0036149</td>\n",
              "      <td>suprapubic skin</td>\n",
              "      <td>tissue</td>\n",
              "      <td>Skin_Not_Sun_Exposed_Suprapubic</td>\n",
              "      <td>-0.004623</td>\n",
              "      <td>-0.957501</td>\n",
              "    </tr>\n",
              "  </tbody>\n",
              "</table>\n",
              "<p>14652 rows × 19 columns</p>\n",
              "</div>\n",
              "    <div class=\"colab-df-buttons\">\n",
              "\n",
              "  <div class=\"colab-df-container\">\n",
              "    <button class=\"colab-df-convert\" onclick=\"convertToInteractive('df-70e6d48e-c7fa-4733-9244-6bdae5b04dc5')\"\n",
              "            title=\"Convert this dataframe to an interactive table.\"\n",
              "            style=\"display:none;\">\n",
              "\n",
              "  <svg xmlns=\"http://www.w3.org/2000/svg\" height=\"24px\" viewBox=\"0 -960 960 960\">\n",
              "    <path d=\"M120-120v-720h720v720H120Zm60-500h600v-160H180v160Zm220 220h160v-160H400v160Zm0 220h160v-160H400v160ZM180-400h160v-160H180v160Zm440 0h160v-160H620v160ZM180-180h160v-160H180v160Zm440 0h160v-160H620v160Z\"/>\n",
              "  </svg>\n",
              "    </button>\n",
              "\n",
              "  <style>\n",
              "    .colab-df-container {\n",
              "      display:flex;\n",
              "      gap: 12px;\n",
              "    }\n",
              "\n",
              "    .colab-df-convert {\n",
              "      background-color: #E8F0FE;\n",
              "      border: none;\n",
              "      border-radius: 50%;\n",
              "      cursor: pointer;\n",
              "      display: none;\n",
              "      fill: #1967D2;\n",
              "      height: 32px;\n",
              "      padding: 0 0 0 0;\n",
              "      width: 32px;\n",
              "    }\n",
              "\n",
              "    .colab-df-convert:hover {\n",
              "      background-color: #E2EBFA;\n",
              "      box-shadow: 0px 1px 2px rgba(60, 64, 67, 0.3), 0px 1px 3px 1px rgba(60, 64, 67, 0.15);\n",
              "      fill: #174EA6;\n",
              "    }\n",
              "\n",
              "    .colab-df-buttons div {\n",
              "      margin-bottom: 4px;\n",
              "    }\n",
              "\n",
              "    [theme=dark] .colab-df-convert {\n",
              "      background-color: #3B4455;\n",
              "      fill: #D2E3FC;\n",
              "    }\n",
              "\n",
              "    [theme=dark] .colab-df-convert:hover {\n",
              "      background-color: #434B5C;\n",
              "      box-shadow: 0px 1px 3px 1px rgba(0, 0, 0, 0.15);\n",
              "      filter: drop-shadow(0px 1px 2px rgba(0, 0, 0, 0.3));\n",
              "      fill: #FFFFFF;\n",
              "    }\n",
              "  </style>\n",
              "\n",
              "    <script>\n",
              "      const buttonEl =\n",
              "        document.querySelector('#df-70e6d48e-c7fa-4733-9244-6bdae5b04dc5 button.colab-df-convert');\n",
              "      buttonEl.style.display =\n",
              "        google.colab.kernel.accessAllowed ? 'block' : 'none';\n",
              "\n",
              "      async function convertToInteractive(key) {\n",
              "        const element = document.querySelector('#df-70e6d48e-c7fa-4733-9244-6bdae5b04dc5');\n",
              "        const dataTable =\n",
              "          await google.colab.kernel.invokeFunction('convertToInteractive',\n",
              "                                                    [key], {});\n",
              "        if (!dataTable) return;\n",
              "\n",
              "        const docLinkHtml = 'Like what you see? Visit the ' +\n",
              "          '<a target=\"_blank\" href=https://colab.research.google.com/notebooks/data_table.ipynb>data table notebook</a>'\n",
              "          + ' to learn more about interactive tables.';\n",
              "        element.innerHTML = '';\n",
              "        dataTable['output_type'] = 'display_data';\n",
              "        await google.colab.output.renderOutput(dataTable, element);\n",
              "        const docLink = document.createElement('div');\n",
              "        docLink.innerHTML = docLinkHtml;\n",
              "        element.appendChild(docLink);\n",
              "      }\n",
              "    </script>\n",
              "  </div>\n",
              "\n",
              "\n",
              "    <div id=\"df-252a251b-8d47-49ab-8c36-39295ff0b1ff\">\n",
              "      <button class=\"colab-df-quickchart\" onclick=\"quickchart('df-252a251b-8d47-49ab-8c36-39295ff0b1ff')\"\n",
              "                title=\"Suggest charts\"\n",
              "                style=\"display:none;\">\n",
              "\n",
              "<svg xmlns=\"http://www.w3.org/2000/svg\" height=\"24px\"viewBox=\"0 0 24 24\"\n",
              "     width=\"24px\">\n",
              "    <g>\n",
              "        <path d=\"M19 3H5c-1.1 0-2 .9-2 2v14c0 1.1.9 2 2 2h14c1.1 0 2-.9 2-2V5c0-1.1-.9-2-2-2zM9 17H7v-7h2v7zm4 0h-2V7h2v10zm4 0h-2v-4h2v4z\"/>\n",
              "    </g>\n",
              "</svg>\n",
              "      </button>\n",
              "\n",
              "<style>\n",
              "  .colab-df-quickchart {\n",
              "      --bg-color: #E8F0FE;\n",
              "      --fill-color: #1967D2;\n",
              "      --hover-bg-color: #E2EBFA;\n",
              "      --hover-fill-color: #174EA6;\n",
              "      --disabled-fill-color: #AAA;\n",
              "      --disabled-bg-color: #DDD;\n",
              "  }\n",
              "\n",
              "  [theme=dark] .colab-df-quickchart {\n",
              "      --bg-color: #3B4455;\n",
              "      --fill-color: #D2E3FC;\n",
              "      --hover-bg-color: #434B5C;\n",
              "      --hover-fill-color: #FFFFFF;\n",
              "      --disabled-bg-color: #3B4455;\n",
              "      --disabled-fill-color: #666;\n",
              "  }\n",
              "\n",
              "  .colab-df-quickchart {\n",
              "    background-color: var(--bg-color);\n",
              "    border: none;\n",
              "    border-radius: 50%;\n",
              "    cursor: pointer;\n",
              "    display: none;\n",
              "    fill: var(--fill-color);\n",
              "    height: 32px;\n",
              "    padding: 0;\n",
              "    width: 32px;\n",
              "  }\n",
              "\n",
              "  .colab-df-quickchart:hover {\n",
              "    background-color: var(--hover-bg-color);\n",
              "    box-shadow: 0 1px 2px rgba(60, 64, 67, 0.3), 0 1px 3px 1px rgba(60, 64, 67, 0.15);\n",
              "    fill: var(--button-hover-fill-color);\n",
              "  }\n",
              "\n",
              "  .colab-df-quickchart-complete:disabled,\n",
              "  .colab-df-quickchart-complete:disabled:hover {\n",
              "    background-color: var(--disabled-bg-color);\n",
              "    fill: var(--disabled-fill-color);\n",
              "    box-shadow: none;\n",
              "  }\n",
              "\n",
              "  .colab-df-spinner {\n",
              "    border: 2px solid var(--fill-color);\n",
              "    border-color: transparent;\n",
              "    border-bottom-color: var(--fill-color);\n",
              "    animation:\n",
              "      spin 1s steps(1) infinite;\n",
              "  }\n",
              "\n",
              "  @keyframes spin {\n",
              "    0% {\n",
              "      border-color: transparent;\n",
              "      border-bottom-color: var(--fill-color);\n",
              "      border-left-color: var(--fill-color);\n",
              "    }\n",
              "    20% {\n",
              "      border-color: transparent;\n",
              "      border-left-color: var(--fill-color);\n",
              "      border-top-color: var(--fill-color);\n",
              "    }\n",
              "    30% {\n",
              "      border-color: transparent;\n",
              "      border-left-color: var(--fill-color);\n",
              "      border-top-color: var(--fill-color);\n",
              "      border-right-color: var(--fill-color);\n",
              "    }\n",
              "    40% {\n",
              "      border-color: transparent;\n",
              "      border-right-color: var(--fill-color);\n",
              "      border-top-color: var(--fill-color);\n",
              "    }\n",
              "    60% {\n",
              "      border-color: transparent;\n",
              "      border-right-color: var(--fill-color);\n",
              "    }\n",
              "    80% {\n",
              "      border-color: transparent;\n",
              "      border-right-color: var(--fill-color);\n",
              "      border-bottom-color: var(--fill-color);\n",
              "    }\n",
              "    90% {\n",
              "      border-color: transparent;\n",
              "      border-bottom-color: var(--fill-color);\n",
              "    }\n",
              "  }\n",
              "</style>\n",
              "\n",
              "      <script>\n",
              "        async function quickchart(key) {\n",
              "          const quickchartButtonEl =\n",
              "            document.querySelector('#' + key + ' button');\n",
              "          quickchartButtonEl.disabled = true;  // To prevent multiple clicks.\n",
              "          quickchartButtonEl.classList.add('colab-df-spinner');\n",
              "          try {\n",
              "            const charts = await google.colab.kernel.invokeFunction(\n",
              "                'suggestCharts', [key], {});\n",
              "          } catch (error) {\n",
              "            console.error('Error during call to suggestCharts:', error);\n",
              "          }\n",
              "          quickchartButtonEl.classList.remove('colab-df-spinner');\n",
              "          quickchartButtonEl.classList.add('colab-df-quickchart-complete');\n",
              "        }\n",
              "        (() => {\n",
              "          let quickchartButtonEl =\n",
              "            document.querySelector('#df-252a251b-8d47-49ab-8c36-39295ff0b1ff button');\n",
              "          quickchartButtonEl.style.display =\n",
              "            google.colab.kernel.accessAllowed ? 'block' : 'none';\n",
              "        })();\n",
              "      </script>\n",
              "    </div>\n",
              "    </div>\n",
              "  </div>\n"
            ],
            "text/plain": [
              "               variant_id            scored_interval  ... raw_score quantile_score\n",
              "0      chr22:36201698:A>C  chr22:35677410-36725986:.  ...  0.000319       0.373276\n",
              "1      chr22:36201698:A>C  chr22:35677410-36725986:.  ...  0.000261       0.431257\n",
              "2      chr22:36201698:A>C  chr22:35677410-36725986:.  ... -0.003533      -0.930376\n",
              "3      chr22:36201698:A>C  chr22:35677410-36725986:.  ... -0.003956      -0.947949\n",
              "4      chr22:36201698:A>C  chr22:35677410-36725986:.  ...  0.000014       0.080577\n",
              "...                   ...                        ...  ...       ...            ...\n",
              "14647  chr22:36201698:A>C  chr22:35677410-36725986:.  ... -0.011238      -0.997684\n",
              "14648  chr22:36201698:A>C  chr22:35677410-36725986:.  ... -0.008828      -0.995687\n",
              "14649  chr22:36201698:A>C  chr22:35677410-36725986:.  ... -0.009835      -0.996803\n",
              "14650  chr22:36201698:A>C  chr22:35677410-36725986:.  ... -0.008311      -0.994315\n",
              "14651  chr22:36201698:A>C  chr22:35677410-36725986:.  ... -0.004623      -0.957501\n",
              "\n",
              "[14652 rows x 19 columns]"
            ]
          },
          "metadata": {},
          "execution_count": 72
        }
      ],
      "source": [
        "\n",
        "variant_scorers.tidy_scores([variant_scores], match_gene_strand=True)"
      ]
    },
    {
      "cell_type": "markdown",
      "metadata": {
        "id": "055sHwjykYVu"
      },
      "source": [
        "## Highlighting important regions with *in silico* mutagenesis\n",
        "\n",
        "To highlight which regions in a DNA sequence are functionally important for a\n",
        "final variant prediction, we can perform an **in silico mutagenesis** (ISM)\n",
        "analysis by scoring all possible single nucleotide variants in a specific\n",
        "interval.\n",
        "\n",
        "Here is a visual overview of this process:\n",
        "\n",
        "<a href=\"https://services.google.com/fh/files/misc/ism_green_v2.png\"><img src=\"https://services.google.com/fh/files/misc/ism_green_v2.png\" alt=\"ISM\" border=\"0\" height=500></a>"
      ]
    },
    {
      "cell_type": "markdown",
      "metadata": {
        "id": "O93kx8lckYVu"
      },
      "source": [
        "We define an `ism_interval`, which is a relatively small region of DNA that we\n",
        "want to systematically mutate. We also define the `sequence_interval`, which is\n",
        "the contextual interval the model will use when making predictions for each\n",
        "variant."
      ]
    },
    {
      "cell_type": "code",
      "execution_count": null,
      "metadata": {
        "id": "9Xhk_TsHkYVu"
      },
      "outputs": [],
      "source": [
        "# 2KB DNA sequence to use as context when making predictions.\n",
        "sequence_interval = genome.Interval('chr20', 3_753_000, 3_753_400)\n",
        "sequence_interval = sequence_interval.resize(dna_client.SEQUENCE_LENGTH_2KB)\n",
        "\n",
        "# Mutate all bases in the central 256-base region of the sequence_interval.\n",
        "ism_interval = sequence_interval.resize(256)"
      ]
    },
    {
      "cell_type": "markdown",
      "metadata": {
        "id": "d9LSDA0QkYVu"
      },
      "source": [
        "Next, we define the scorer we want to use to score each of the ISM variants.\n",
        "Here, we use a center mask scorer on predicted `DNASE` values, which will score\n",
        "each variant's effect on DNA accessibility in the 500bp vicinity. See the\n",
        "[variant scoring documentation](https://www.alphagenomedocs.com/variant_scoring.html)\n",
        "for more information on variant scoring."
      ]
    },
    {
      "cell_type": "code",
      "execution_count": null,
      "metadata": {
        "id": "twYn3L9qkYVu"
      },
      "outputs": [],
      "source": [
        "dnase_variant_scorer = variant_scorers.CenterMaskScorer(\n",
        "    requested_output=dna_client.OutputType.DNASE,\n",
        "    width=501,\n",
        "    aggregation_type=variant_scorers.AggregationType.DIFF_MEAN,\n",
        ")"
      ]
    },
    {
      "cell_type": "markdown",
      "metadata": {
        "id": "UbQxCvutkYVu"
      },
      "source": [
        "Finally, we can use `score_variants` (notice the plural s) to score all\n",
        "variants.\n",
        "\n",
        "Note that this operation is quite expensive. For speed reasons, we recommend\n",
        "using shorter input sequences for the contextual `sequence_interval` and\n",
        "narrower `ism_interval` regions to mutate if possible."
      ]
    },
    {
      "cell_type": "code",
      "execution_count": null,
      "metadata": {
        "colab": {
          "height": 49,
          "referenced_widgets": [
            "4922fcbbae08442988fb18d9cc7d4a14",
            "63a6e9205e7d4685b8a52e2a803dba69",
            "46abf069cecd49669947c66b745aff32",
            "730aca5f560e4dadb81635a683a57331",
            "583e96cc744745aa91dbbb5fd7ac6dfd",
            "8c9524fc380349428df5900092720535",
            "ef4fc6bd15f44544a3e10d2cb0d795c1",
            "f825f743dd6e435baef796f4598467f3",
            "596ef43897fc40a787c3678bf4c54201",
            "50e100fb875c4246970c57d89570deb0",
            "dc9cd5530de2419eb6114d232145f9eb"
          ]
        },
        "id": "WMuA2NQXkYVu",
        "outputId": "aa4302e4-224b-4cc8-f3dd-d118cea1186c"
      },
      "outputs": [
        {
          "data": {
            "application/vnd.jupyter.widget-view+json": {
              "model_id": "4922fcbbae08442988fb18d9cc7d4a14",
              "version_major": 2,
              "version_minor": 0
            },
            "text/plain": [
              "  0%|          | 0/26 [00:00<?, ?it/s]"
            ]
          },
          "metadata": {},
          "output_type": "display_data"
        }
      ],
      "source": [
        "variant_scores = dna_model.score_ism_variants(\n",
        "    interval=sequence_interval,\n",
        "    ism_interval=ism_interval,\n",
        "    variant_scorers=[dnase_variant_scorer],\n",
        ")"
      ]
    },
    {
      "cell_type": "markdown",
      "metadata": {
        "id": "r3iJ9E-ckYVu"
      },
      "source": [
        "The length of the returned `variant_scores` is 768, since we scored 768 variants\n",
        "(256 positions * 3 alternative bases per position):"
      ]
    },
    {
      "cell_type": "code",
      "execution_count": null,
      "metadata": {
        "id": "NrRgRYF1kYVu",
        "outputId": "ee06c7eb-b3b0-483f-afe5-3dff4436df51"
      },
      "outputs": [
        {
          "data": {
            "text/plain": [
              "768"
            ]
          },
          "execution_count": 76,
          "metadata": {},
          "output_type": "execute_result"
        }
      ],
      "source": [
        "len(variant_scores)"
      ]
    },
    {
      "cell_type": "markdown",
      "metadata": {
        "id": "_e2WoG6pkYVu"
      },
      "source": [
        "Each variant has scores of shape `(1, 305)`, reflecting the fact that we are not\n",
        "using a gene-centric scorer and that there are 305 `DNASE` tracks:"
      ]
    },
    {
      "cell_type": "code",
      "execution_count": null,
      "metadata": {
        "id": "f-raKWmbkYVu",
        "outputId": "520f652a-e8c5-47cc-e5ba-3dbf8fc72e09"
      },
      "outputs": [
        {
          "data": {
            "text/plain": [
              "(1, 305)"
            ]
          },
          "execution_count": 77,
          "metadata": {},
          "output_type": "execute_result"
        }
      ],
      "source": [
        "# Index into first variant and first scorer.\n",
        "variant_scores[0][0].X.shape"
      ]
    },
    {
      "cell_type": "markdown",
      "metadata": {
        "id": "nyDoTBdAkYVu"
      },
      "source": [
        "To understand which positions are most influential in the predictions, we can\n",
        "visualize these scores using a sequence logo. This requires summarizing the\n",
        "scores into a single scalar value per variant.\n",
        "\n",
        "As an example, let's extract the DNASE score for just the K562 cell line, a\n",
        "widely used experimental model. Alternatively, you could average across multiple\n",
        "tissues to obtain a single scalar value."
      ]
    },
    {
      "cell_type": "code",
      "execution_count": null,
      "metadata": {
        "id": "jK9UF4PZkYVu"
      },
      "outputs": [],
      "source": [
        "def extract_k562(adata):\n",
        "  values = adata.X[:, adata.var['ontology_curie'] == 'EFO:0002067']\n",
        "  assert values.size == 1\n",
        "  return values.flatten()[0]\n",
        "\n",
        "\n",
        "ism_result = ism.ism_matrix(\n",
        "    [extract_k562(x[0]) for x in variant_scores],\n",
        "    variants=[v[0].uns['variant'] for v in variant_scores],\n",
        ")"
      ]
    },
    {
      "cell_type": "markdown",
      "metadata": {
        "id": "UYtOmG4xkYVu"
      },
      "source": [
        "The shape of `ism_result` is `(256, 4`) since we have 1 score per position per\n",
        "each of the 4 DNA bases.\n",
        "\n",
        "Note that in this case, our call to `ism.ism_matrix()` had the argument\n",
        "`multiply_by_sequence` set to 'True', so the output array contains non-zero\n",
        "values only for the bases corresponding to the reference sequence."
      ]
    },
    {
      "cell_type": "code",
      "execution_count": null,
      "metadata": {
        "id": "ONduc-kwkYVv",
        "outputId": "b8706961-0e20-4e74-b5c4-23e617b3d75c"
      },
      "outputs": [
        {
          "data": {
            "text/plain": [
              "(256, 4)"
            ]
          },
          "execution_count": 79,
          "metadata": {},
          "output_type": "execute_result"
        }
      ],
      "source": [
        "ism_result.shape"
      ]
    },
    {
      "cell_type": "markdown",
      "metadata": {
        "id": "Wj0VMFwCkYVv"
      },
      "source": [
        "Finally, we plot the contribution scores as a sequence logo:"
      ]
    },
    {
      "cell_type": "code",
      "execution_count": null,
      "metadata": {
        "colab": {
          "height": 115
        },
        "id": "0X9fwKw6kYVv",
        "outputId": "bbdbe642-023a-4e63-dbc2-d634c5fead6f"
      },
      "outputs": [
        {
          "data": {
            "image/png": "[encoded data removed]",
            "text/plain": [
              "<Figure size 2520x72 with 1 Axes>"
            ]
          },
          "metadata": {
            "image/png": {
              "height": 98,
              "width": 2084
            }
          },
          "output_type": "display_data"
        }
      ],
      "source": [
        "plot_components.plot(\n",
        "    [\n",
        "        plot_components.SeqLogo(\n",
        "            scores=ism_result,\n",
        "            scores_interval=ism_interval,\n",
        "            ylabel='ISM K562 DNase',\n",
        "        )\n",
        "    ],\n",
        "    interval=ism_interval,\n",
        "    fig_width=35,\n",
        ")\n",
        "\n",
        "plt.show()"
      ]
    },
    {
      "cell_type": "markdown",
      "metadata": {
        "id": "Qkuuj1p7kYVv"
      },
      "source": [
        "This plot shows that the sequence between positions ~225 to ~240 has the\n",
        "strongest effect on predicted nearby DNAse in K562 cells.\n",
        "\n",
        "These contribution scores can be used to systematically discover motifs\n",
        "important for different modalities and cell types, find the transcription\n",
        "factors binding those motifs and map motif instances across the genome. Here are\n",
        "a few tools you can use to do this: -\n",
        "[tfmodisco-lite](https://github.com/jmschrei/tfmodisco-lite/) -\n",
        "[tangermeme](https://github.com/jmschrei/tangermeme) -\n",
        "[tomtom](https://meme-suite.org/meme/tools/tomtom)"
      ]
    },
    {
      "cell_type": "markdown",
      "metadata": {
        "id": "j6Vum-X6ILaz"
      },
      "source": [
        "## Making mouse predictions"
      ]
    },
    {
      "cell_type": "markdown",
      "metadata": {
        "id": "r-E-kEitg6ru"
      },
      "source": [
        "So far, this notebook has focused on predictions for human\n",
        "(`Organism.HOMO_SAPIENS`). To generate predictions for mouse, specify the\n",
        "organism as `Organism.MUS_MUSCULUS` instead. Please note that the supported\n",
        "ontology terms differ between species.\n",
        "\n",
        "The following example demonstrates how to call `predict_sequence` for mouse\n",
        "predictions:"
      ]
    },
    {
      "cell_type": "code",
      "execution_count": null,
      "metadata": {
        "id": "QjFVRG1QLVba",
        "language": "python"
      },
      "outputs": [],
      "source": [
        "output = dna_model.predict_sequence(\n",
        "    sequence='GATTACA'.center(\n",
        "        dna_client.SEQUENCE_LENGTH_1MB, 'N'\n",
        "    ),  # Pad to valid sequence length.\n",
        "    organism=dna_client.Organism.MUS_MUSCULUS,\n",
        "    requested_outputs=[dna_client.OutputType.DNASE],\n",
        "    ontology_terms=['UBERON:0002048'],  # Lung.\n",
        ")"
      ]
    },
    {
      "cell_type": "markdown",
      "metadata": {
        "id": "WwpupBP1hPgh"
      },
      "source": [
        "And here is an example of calling `predict_interval` for a mouse genomic\n",
        "interval:"
      ]
    },
    {
      "cell_type": "code",
      "execution_count": null,
      "metadata": {
        "id": "lKOIZAtMLrEu",
        "outputId": "7ad08b2c-31e1-4d2c-96eb-19f78e2f9e6c"
      },
      "outputs": [
        {
          "data": {
            "text/plain": [
              "(1048576, 3)"
            ]
          },
          "execution_count": 82,
          "metadata": {},
          "output_type": "execute_result"
        }
      ],
      "source": [
        "interval = genome.Interval('chr1', 3_000_000, 3_000_001).resize(\n",
        "    dna_client.SEQUENCE_LENGTH_1MB\n",
        ")\n",
        "\n",
        "output = dna_model.predict_interval(\n",
        "    interval=interval,\n",
        "    organism=dna_client.Organism.MUS_MUSCULUS,\n",
        "    requested_outputs=[dna_client.OutputType.RNA_SEQ],\n",
        "    ontology_terms=['UBERON:0002048'],  # Lung.\n",
        ")\n",
        "\n",
        "output.rna_seq.values.shape"
      ]
    },
    {
      "cell_type": "markdown",
      "metadata": {
        "id": "-1isDYNjkYVv"
      },
      "source": [
        "## Conclusion\n",
        "\n",
        "That's it for the quick start guide. To dive in further, check out our\n",
        "[other tutorials](https://www.alphagenomedocs.com/tutorials/index.html)."
      ]
    }
  ],
  "metadata": {
    "colab": {
      "provenance": []
    },
    "kernelspec": {
      "display_name": "Python 3",
      "name": "python3"
    },
    "language_info": {
      "name": "python"
    },
    "widgets": {
      "application/vnd.jupyter.widget-state+json": {
        "4922fcbbae08442988fb18d9cc7d4a14": {
          "model_module": "@jupyter-widgets/controls",
          "model_name": "HBoxModel",
          "model_module_version": "1.5.0",
          "state": {
            "_dom_classes": [],
            "_model_module": "@jupyter-widgets/controls",
            "_model_module_version": "1.5.0",
            "_model_name": "HBoxModel",
            "_view_count": null,
            "_view_module": "@jupyter-widgets/controls",
            "_view_module_version": "1.5.0",
            "_view_name": "HBoxView",
            "box_style": "",
            "children": [
              "IPY_MODEL_63a6e9205e7d4685b8a52e2a803dba69",
              "IPY_MODEL_46abf069cecd49669947c66b745aff32",
              "IPY_MODEL_730aca5f560e4dadb81635a683a57331"
            ],
            "layout": "IPY_MODEL_583e96cc744745aa91dbbb5fd7ac6dfd"
          }
        },
        "63a6e9205e7d4685b8a52e2a803dba69": {
          "model_module": "@jupyter-widgets/controls",
          "model_name": "HTMLModel",
          "model_module_version": "1.5.0",
          "state": {
            "_dom_classes": [],
            "_model_module": "@jupyter-widgets/controls",
            "_model_module_version": "1.5.0",
            "_model_name": "HTMLModel",
            "_view_count": null,
            "_view_module": "@jupyter-widgets/controls",
            "_view_module_version": "1.5.0",
            "_view_name": "HTMLView",
            "description": "",
            "description_tooltip": null,
            "layout": "IPY_MODEL_8c9524fc380349428df5900092720535",
            "placeholder": "​",
            "style": "IPY_MODEL_ef4fc6bd15f44544a3e10d2cb0d795c1",
            "value": "100%"
          }
        },
        "46abf069cecd49669947c66b745aff32": {
          "model_module": "@jupyter-widgets/controls",
          "model_name": "FloatProgressModel",
          "model_module_version": "1.5.0",
          "state": {
            "_dom_classes": [],
            "_model_module": "@jupyter-widgets/controls",
            "_model_module_version": "1.5.0",
            "_model_name": "FloatProgressModel",
            "_view_count": null,
            "_view_module": "@jupyter-widgets/controls",
            "_view_module_version": "1.5.0",
            "_view_name": "ProgressView",
            "bar_style": "success",
            "description": "",
            "description_tooltip": null,
            "layout": "IPY_MODEL_f825f743dd6e435baef796f4598467f3",
            "max": 26,
            "min": 0,
            "orientation": "horizontal",
            "style": "IPY_MODEL_596ef43897fc40a787c3678bf4c54201",
            "value": 26
          }
        },
        "730aca5f560e4dadb81635a683a57331": {
          "model_module": "@jupyter-widgets/controls",
          "model_name": "HTMLModel",
          "model_module_version": "1.5.0",
          "state": {
            "_dom_classes": [],
            "_model_module": "@jupyter-widgets/controls",
            "_model_module_version": "1.5.0",
            "_model_name": "HTMLModel",
            "_view_count": null,
            "_view_module": "@jupyter-widgets/controls",
            "_view_module_version": "1.5.0",
            "_view_name": "HTMLView",
            "description": "",
            "description_tooltip": null,
            "layout": "IPY_MODEL_50e100fb875c4246970c57d89570deb0",
            "placeholder": "​",
            "style": "IPY_MODEL_dc9cd5530de2419eb6114d232145f9eb",
            "value": " 26/26 [00:09&lt;00:00,  4.55it/s]"
          }
        },
        "583e96cc744745aa91dbbb5fd7ac6dfd": {
          "model_module": "@jupyter-widgets/base",
          "model_name": "LayoutModel",
          "model_module_version": "1.2.0",
          "state": {
            "_model_module": "@jupyter-widgets/base",
            "_model_module_version": "1.2.0",
            "_model_name": "LayoutModel",
            "_view_count": null,
            "_view_module": "@jupyter-widgets/base",
            "_view_module_version": "1.2.0",
            "_view_name": "LayoutView",
            "align_content": null,
            "align_items": null,
            "align_self": null,
            "border": null,
            "bottom": null,
            "display": null,
            "flex": null,
            "flex_flow": null,
            "grid_area": null,
            "grid_auto_columns": null,
            "grid_auto_flow": null,
            "grid_auto_rows": null,
            "grid_column": null,
            "grid_gap": null,
            "grid_row": null,
            "grid_template_areas": null,
            "grid_template_columns": null,
            "grid_template_rows": null,
            "height": null,
            "justify_content": null,
            "justify_items": null,
            "left": null,
            "margin": null,
            "max_height": null,
            "max_width": null,
            "min_height": null,
            "min_width": null,
            "object_fit": null,
            "object_position": null,
            "order": null,
            "overflow": null,
            "overflow_x": null,
            "overflow_y": null,
            "padding": null,
            "right": null,
            "top": null,
            "visibility": null,
            "width": null
          }
        },
        "8c9524fc380349428df5900092720535": {
          "model_module": "@jupyter-widgets/base",
          "model_name": "LayoutModel",
          "model_module_version": "1.2.0",
          "state": {
            "_model_module": "@jupyter-widgets/base",
            "_model_module_version": "1.2.0",
            "_model_name": "LayoutModel",
            "_view_count": null,
            "_view_module": "@jupyter-widgets/base",
            "_view_module_version": "1.2.0",
            "_view_name": "LayoutView",
            "align_content": null,
            "align_items": null,
            "align_self": null,
            "border": null,
            "bottom": null,
            "display": null,
            "flex": null,
            "flex_flow": null,
            "grid_area": null,
            "grid_auto_columns": null,
            "grid_auto_flow": null,
            "grid_auto_rows": null,
            "grid_column": null,
            "grid_gap": null,
            "grid_row": null,
            "grid_template_areas": null,
            "grid_template_columns": null,
            "grid_template_rows": null,
            "height": null,
            "justify_content": null,
            "justify_items": null,
            "left": null,
            "margin": null,
            "max_height": null,
            "max_width": null,
            "min_height": null,
            "min_width": null,
            "object_fit": null,
            "object_position": null,
            "order": null,
            "overflow": null,
            "overflow_x": null,
            "overflow_y": null,
            "padding": null,
            "right": null,
            "top": null,
            "visibility": null,
            "width": null
          }
        },
        "ef4fc6bd15f44544a3e10d2cb0d795c1": {
          "model_module": "@jupyter-widgets/controls",
          "model_name": "DescriptionStyleModel",
          "model_module_version": "1.5.0",
          "state": {
            "_model_module": "@jupyter-widgets/controls",
            "_model_module_version": "1.5.0",
            "_model_name": "DescriptionStyleModel",
            "_view_count": null,
            "_view_module": "@jupyter-widgets/base",
            "_view_module_version": "1.2.0",
            "_view_name": "StyleView",
            "description_width": ""
          }
        },
        "f825f743dd6e435baef796f4598467f3": {
          "model_module": "@jupyter-widgets/base",
          "model_name": "LayoutModel",
          "model_module_version": "1.2.0",
          "state": {
            "_model_module": "@jupyter-widgets/base",
            "_model_module_version": "1.2.0",
            "_model_name": "LayoutModel",
            "_view_count": null,
            "_view_module": "@jupyter-widgets/base",
            "_view_module_version": "1.2.0",
            "_view_name": "LayoutView",
            "align_content": null,
            "align_items": null,
            "align_self": null,
            "border": null,
            "bottom": null,
            "display": null,
            "flex": null,
            "flex_flow": null,
            "grid_area": null,
            "grid_auto_columns": null,
            "grid_auto_flow": null,
            "grid_auto_rows": null,
            "grid_column": null,
            "grid_gap": null,
            "grid_row": null,
            "grid_template_areas": null,
            "grid_template_columns": null,
            "grid_template_rows": null,
            "height": null,
            "justify_content": null,
            "justify_items": null,
            "left": null,
            "margin": null,
            "max_height": null,
            "max_width": null,
            "min_height": null,
            "min_width": null,
            "object_fit": null,
            "object_position": null,
            "order": null,
            "overflow": null,
            "overflow_x": null,
            "overflow_y": null,
            "padding": null,
            "right": null,
            "top": null,
            "visibility": null,
            "width": null
          }
        },
        "596ef43897fc40a787c3678bf4c54201": {
          "model_module": "@jupyter-widgets/controls",
          "model_name": "ProgressStyleModel",
          "model_module_version": "1.5.0",
          "state": {
            "_model_module": "@jupyter-widgets/controls",
            "_model_module_version": "1.5.0",
            "_model_name": "ProgressStyleModel",
            "_view_count": null,
            "_view_module": "@jupyter-widgets/base",
            "_view_module_version": "1.2.0",
            "_view_name": "StyleView",
            "bar_color": null,
            "description_width": ""
          }
        },
        "50e100fb875c4246970c57d89570deb0": {
          "model_module": "@jupyter-widgets/base",
          "model_name": "LayoutModel",
          "model_module_version": "1.2.0",
          "state": {
            "_model_module": "@jupyter-widgets/base",
            "_model_module_version": "1.2.0",
            "_model_name": "LayoutModel",
            "_view_count": null,
            "_view_module": "@jupyter-widgets/base",
            "_view_module_version": "1.2.0",
            "_view_name": "LayoutView",
            "align_content": null,
            "align_items": null,
            "align_self": null,
            "border": null,
            "bottom": null,
            "display": null,
            "flex": null,
            "flex_flow": null,
            "grid_area": null,
            "grid_auto_columns": null,
            "grid_auto_flow": null,
            "grid_auto_rows": null,
            "grid_column": null,
            "grid_gap": null,
            "grid_row": null,
            "grid_template_areas": null,
            "grid_template_columns": null,
            "grid_template_rows": null,
            "height": null,
            "justify_content": null,
            "justify_items": null,
            "left": null,
            "margin": null,
            "max_height": null,
            "max_width": null,
            "min_height": null,
            "min_width": null,
            "object_fit": null,
            "object_position": null,
            "order": null,
            "overflow": null,
            "overflow_x": null,
            "overflow_y": null,
            "padding": null,
            "right": null,
            "top": null,
            "visibility": null,
            "width": null
          }
        },
        "dc9cd5530de2419eb6114d232145f9eb": {
          "model_module": "@jupyter-widgets/controls",
          "model_name": "DescriptionStyleModel",
          "model_module_version": "1.5.0",
          "state": {
            "_model_module": "@jupyter-widgets/controls",
            "_model_module_version": "1.5.0",
            "_model_name": "DescriptionStyleModel",
            "_view_count": null,
            "_view_module": "@jupyter-widgets/base",
            "_view_module_version": "1.2.0",
            "_view_name": "StyleView",
            "description_width": ""
          }
        }
      }
    }
  },
  "nbformat": 4,
  "nbformat_minor": 0
}